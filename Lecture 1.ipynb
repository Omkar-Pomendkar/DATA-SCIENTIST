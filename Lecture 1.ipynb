{
 "cells": [
  {
   "cell_type": "code",
   "execution_count": 1,
   "id": "6f5788d4",
   "metadata": {},
   "outputs": [],
   "source": [
    "a = \"Omkar Pomendkar\""
   ]
  },
  {
   "cell_type": "code",
   "execution_count": 2,
   "id": "acb06bf1",
   "metadata": {},
   "outputs": [
    {
     "name": "stdout",
     "output_type": "stream",
     "text": [
      "Omkar Pomendkar\n"
     ]
    }
   ],
   "source": [
    "print(a)"
   ]
  },
  {
   "cell_type": "code",
   "execution_count": 3,
   "id": "0cbc1f4e",
   "metadata": {},
   "outputs": [
    {
     "data": {
      "text/plain": [
       "str"
      ]
     },
     "execution_count": 3,
     "metadata": {},
     "output_type": "execute_result"
    }
   ],
   "source": [
    "type(a)"
   ]
  },
  {
   "cell_type": "code",
   "execution_count": 4,
   "id": "9092dcd1",
   "metadata": {},
   "outputs": [
    {
     "data": {
      "text/plain": [
       "15"
      ]
     },
     "execution_count": 4,
     "metadata": {},
     "output_type": "execute_result"
    }
   ],
   "source": [
    "len(a)"
   ]
  },
  {
   "cell_type": "code",
   "execution_count": 6,
   "id": "f5cf6061",
   "metadata": {},
   "outputs": [
    {
     "data": {
      "text/plain": [
       "'O'"
      ]
     },
     "execution_count": 6,
     "metadata": {},
     "output_type": "execute_result"
    }
   ],
   "source": [
    "a[0]"
   ]
  },
  {
   "cell_type": "code",
   "execution_count": 7,
   "id": "06cda54a",
   "metadata": {},
   "outputs": [
    {
     "data": {
      "text/plain": [
       "'Omkar Pome'"
      ]
     },
     "execution_count": 7,
     "metadata": {},
     "output_type": "execute_result"
    }
   ],
   "source": [
    "a[0:10]"
   ]
  },
  {
   "cell_type": "code",
   "execution_count": 8,
   "id": "c27ce523",
   "metadata": {},
   "outputs": [
    {
     "data": {
      "text/plain": [
       "'r'"
      ]
     },
     "execution_count": 8,
     "metadata": {},
     "output_type": "execute_result"
    }
   ],
   "source": [
    "a[-1]"
   ]
  },
  {
   "cell_type": "code",
   "execution_count": 9,
   "id": "a75f44aa",
   "metadata": {},
   "outputs": [
    {
     "data": {
      "text/plain": [
       "'r'"
      ]
     },
     "execution_count": 9,
     "metadata": {},
     "output_type": "execute_result"
    }
   ],
   "source": [
    "a[-1:]"
   ]
  },
  {
   "cell_type": "code",
   "execution_count": 10,
   "id": "0b8d8f65",
   "metadata": {},
   "outputs": [
    {
     "data": {
      "text/plain": [
       "'rakdnemoP rakmO'"
      ]
     },
     "execution_count": 10,
     "metadata": {},
     "output_type": "execute_result"
    }
   ],
   "source": [
    "a[::-1]"
   ]
  },
  {
   "cell_type": "code",
   "execution_count": 11,
   "id": "26f20758",
   "metadata": {},
   "outputs": [],
   "source": [
    "s = \"Omkar POmendkar\""
   ]
  },
  {
   "cell_type": "code",
   "execution_count": 12,
   "id": "b8b6d4ea",
   "metadata": {},
   "outputs": [],
   "source": [
    "g = 'Sanjay Pomendkar'"
   ]
  },
  {
   "cell_type": "code",
   "execution_count": 13,
   "id": "5575244e",
   "metadata": {},
   "outputs": [
    {
     "name": "stdout",
     "output_type": "stream",
     "text": [
      "Sanjay Pomendkar\n"
     ]
    }
   ],
   "source": [
    "print(g)"
   ]
  },
  {
   "cell_type": "code",
   "execution_count": 14,
   "id": "40eb126b",
   "metadata": {},
   "outputs": [
    {
     "name": "stdout",
     "output_type": "stream",
     "text": [
      "Omkar POmendkar\n"
     ]
    }
   ],
   "source": [
    "print(s)"
   ]
  },
  {
   "cell_type": "code",
   "execution_count": 15,
   "id": "fb328cb9",
   "metadata": {},
   "outputs": [],
   "source": [
    "a = \"\"\"omkar is a Good Boy \"Software Devloper\" \"\"\""
   ]
  },
  {
   "cell_type": "code",
   "execution_count": 16,
   "id": "55d70721",
   "metadata": {},
   "outputs": [
    {
     "name": "stdout",
     "output_type": "stream",
     "text": [
      "omkar is a Good Boy \"Software Devloper\" \n"
     ]
    }
   ],
   "source": [
    "print(a)"
   ]
  },
  {
   "cell_type": "code",
   "execution_count": 17,
   "id": "60e6ba51",
   "metadata": {},
   "outputs": [
    {
     "data": {
      "text/plain": [
       "str"
      ]
     },
     "execution_count": 17,
     "metadata": {},
     "output_type": "execute_result"
    }
   ],
   "source": [
    "type(a)"
   ]
  },
  {
   "cell_type": "code",
   "execution_count": 18,
   "id": "be7d599b",
   "metadata": {},
   "outputs": [
    {
     "data": {
      "text/plain": [
       "40"
      ]
     },
     "execution_count": 18,
     "metadata": {},
     "output_type": "execute_result"
    }
   ],
   "source": [
    "len(a)"
   ]
  },
  {
   "cell_type": "code",
   "execution_count": 19,
   "id": "80d7fef6",
   "metadata": {},
   "outputs": [
    {
     "data": {
      "text/plain": [
       "'omkar is a Good Boy \"Software Devloper\" '"
      ]
     },
     "execution_count": 19,
     "metadata": {},
     "output_type": "execute_result"
    }
   ],
   "source": [
    "a[:]"
   ]
  },
  {
   "cell_type": "code",
   "execution_count": 20,
   "id": "779d298e",
   "metadata": {},
   "outputs": [
    {
     "data": {
      "text/plain": [
       "'omkar is a Good Boy \"Software Devloper\"'"
      ]
     },
     "execution_count": 20,
     "metadata": {},
     "output_type": "execute_result"
    }
   ],
   "source": [
    "a[:-1]"
   ]
  },
  {
   "cell_type": "code",
   "execution_count": 21,
   "id": "849aa141",
   "metadata": {},
   "outputs": [
    {
     "data": {
      "text/plain": [
       "'mkar '"
      ]
     },
     "execution_count": 21,
     "metadata": {},
     "output_type": "execute_result"
    }
   ],
   "source": [
    "a[1:6]"
   ]
  },
  {
   "cell_type": "code",
   "execution_count": 22,
   "id": "3d8c6177",
   "metadata": {},
   "outputs": [
    {
     "data": {
      "text/plain": [
       "'kri  odBy\"otaeDvoe\"'"
      ]
     },
     "execution_count": 22,
     "metadata": {},
     "output_type": "execute_result"
    }
   ],
   "source": [
    " a[2:45:2]"
   ]
  },
  {
   "cell_type": "code",
   "execution_count": 24,
   "id": "d09794c1",
   "metadata": {},
   "outputs": [
    {
     "data": {
      "text/plain": [
       "''"
      ]
     },
     "execution_count": 24,
     "metadata": {},
     "output_type": "execute_result"
    }
   ],
   "source": [
    " a[0:8:-1]"
   ]
  },
  {
   "cell_type": "code",
   "execution_count": 25,
   "id": "d33fc319",
   "metadata": {},
   "outputs": [
    {
     "data": {
      "text/plain": [
       "' si rakm'"
      ]
     },
     "execution_count": 25,
     "metadata": {},
     "output_type": "execute_result"
    }
   ],
   "source": [
    "a[8:0:-1]"
   ]
  },
  {
   "cell_type": "code",
   "execution_count": 26,
   "id": "6ce0ef1a",
   "metadata": {},
   "outputs": [
    {
     "data": {
      "text/plain": [
       "'omkar is a Good Boy \"Software Devlope'"
      ]
     },
     "execution_count": 26,
     "metadata": {},
     "output_type": "execute_result"
    }
   ],
   "source": [
    " a[:-3]"
   ]
  },
  {
   "cell_type": "code",
   "execution_count": 27,
   "id": "aaeaa7ee",
   "metadata": {},
   "outputs": [
    {
     "data": {
      "text/plain": [
       "'omkar is a Good Boy \"Software Devloper\"'"
      ]
     },
     "execution_count": 27,
     "metadata": {},
     "output_type": "execute_result"
    }
   ],
   "source": [
    "a[:-1]"
   ]
  },
  {
   "cell_type": "code",
   "execution_count": 28,
   "id": "893ca57a",
   "metadata": {},
   "outputs": [
    {
     "data": {
      "text/plain": [
       "' \"repolveD erawtfoS\" yoB dooG a si rakmo'"
      ]
     },
     "execution_count": 28,
     "metadata": {},
     "output_type": "execute_result"
    }
   ],
   "source": [
    "a[::-1]"
   ]
  },
  {
   "cell_type": "code",
   "execution_count": 29,
   "id": "12a7a55e",
   "metadata": {},
   "outputs": [
    {
     "data": {
      "text/plain": [
       "'o'"
      ]
     },
     "execution_count": 29,
     "metadata": {},
     "output_type": "execute_result"
    }
   ],
   "source": [
    "a[:1]"
   ]
  },
  {
   "cell_type": "code",
   "execution_count": 35,
   "id": "e10f31b5",
   "metadata": {},
   "outputs": [
    {
     "data": {
      "text/plain": [
       "' \"repolveD erawtfoS\" yoB dooG a si rakmo'"
      ]
     },
     "execution_count": 35,
     "metadata": {},
     "output_type": "execute_result"
    }
   ],
   "source": [
    "a[::-1]"
   ]
  },
  {
   "cell_type": "code",
   "execution_count": 36,
   "id": "821e9288",
   "metadata": {},
   "outputs": [],
   "source": [
    "l = \"Logitech\""
   ]
  },
  {
   "cell_type": "code",
   "execution_count": 37,
   "id": "d482e78f",
   "metadata": {},
   "outputs": [
    {
     "data": {
      "text/plain": [
       "''"
      ]
     },
     "execution_count": 37,
     "metadata": {},
     "output_type": "execute_result"
    }
   ],
   "source": [
    "l[0:0:-1]"
   ]
  },
  {
   "cell_type": "code",
   "execution_count": 38,
   "id": "ff39682b",
   "metadata": {},
   "outputs": [
    {
     "data": {
      "text/plain": [
       "''"
      ]
     },
     "execution_count": 38,
     "metadata": {},
     "output_type": "execute_result"
    }
   ],
   "source": [
    "l[-2:-7:1]"
   ]
  },
  {
   "cell_type": "code",
   "execution_count": 39,
   "id": "25fda3e7",
   "metadata": {},
   "outputs": [
    {
     "data": {
      "text/plain": [
       "'ogite'"
      ]
     },
     "execution_count": 39,
     "metadata": {},
     "output_type": "execute_result"
    }
   ],
   "source": [
    "l[-7:-2:1]"
   ]
  },
  {
   "cell_type": "markdown",
   "id": "a6324ed5",
   "metadata": {},
   "source": [
    "# Typecasting"
   ]
  },
  {
   "cell_type": "code",
   "execution_count": 42,
   "id": "fda52006",
   "metadata": {},
   "outputs": [
    {
     "data": {
      "text/plain": [
       "'Logitechomkar'"
      ]
     },
     "execution_count": 42,
     "metadata": {},
     "output_type": "execute_result"
    }
   ],
   "source": [
    "l+ \"omkar\""
   ]
  },
  {
   "cell_type": "code",
   "execution_count": 43,
   "id": "cecfb81a",
   "metadata": {},
   "outputs": [
    {
     "data": {
      "text/plain": [
       "'Logitech8798798797889789790'"
      ]
     },
     "execution_count": 43,
     "metadata": {},
     "output_type": "execute_result"
    }
   ],
   "source": [
    "l+ str(8798798797889789790)"
   ]
  },
  {
   "cell_type": "code",
   "execution_count": 44,
   "id": "c11c62cc",
   "metadata": {},
   "outputs": [
    {
     "data": {
      "text/plain": [
       "8"
      ]
     },
     "execution_count": 44,
     "metadata": {},
     "output_type": "execute_result"
    }
   ],
   "source": [
    "len(l)"
   ]
  },
  {
   "cell_type": "code",
   "execution_count": 45,
   "id": "be95fcbc",
   "metadata": {},
   "outputs": [
    {
     "data": {
      "text/plain": [
       "8"
      ]
     },
     "execution_count": 45,
     "metadata": {},
     "output_type": "execute_result"
    }
   ],
   "source": [
    "len(l)"
   ]
  },
  {
   "cell_type": "code",
   "execution_count": 48,
   "id": "eb6269c2",
   "metadata": {},
   "outputs": [
    {
     "data": {
      "text/plain": [
       "'LogitechLogitech'"
      ]
     },
     "execution_count": 48,
     "metadata": {},
     "output_type": "execute_result"
    }
   ],
   "source": [
    "l*2"
   ]
  },
  {
   "cell_type": "markdown",
   "id": "e4826e61",
   "metadata": {},
   "source": [
    "# String Functions"
   ]
  },
  {
   "cell_type": "code",
   "execution_count": 60,
   "id": "377d1a5a",
   "metadata": {},
   "outputs": [],
   "source": [
    "o = \"omkar Pomendkar\""
   ]
  },
  {
   "cell_type": "code",
   "execution_count": 61,
   "id": "17733b07",
   "metadata": {},
   "outputs": [
    {
     "data": {
      "text/plain": [
       "2"
      ]
     },
     "execution_count": 61,
     "metadata": {},
     "output_type": "execute_result"
    }
   ],
   "source": [
    "o.count('om')"
   ]
  },
  {
   "cell_type": "code",
   "execution_count": 66,
   "id": "fc867bce",
   "metadata": {},
   "outputs": [
    {
     "data": {
      "text/plain": [
       "['OMKAR POMENDKAR']"
      ]
     },
     "execution_count": 66,
     "metadata": {},
     "output_type": "execute_result"
    }
   ],
   "source": [
    "o.split('m')"
   ]
  },
  {
   "cell_type": "code",
   "execution_count": 67,
   "id": "dc2cffff",
   "metadata": {},
   "outputs": [],
   "source": [
    " o = o.upper()"
   ]
  },
  {
   "cell_type": "code",
   "execution_count": 68,
   "id": "dd2e1e6a",
   "metadata": {},
   "outputs": [
    {
     "name": "stdout",
     "output_type": "stream",
     "text": [
      "OMKAR POMENDKAR\n"
     ]
    }
   ],
   "source": [
    "print(o)"
   ]
  },
  {
   "cell_type": "code",
   "execution_count": 69,
   "id": "09baf00e",
   "metadata": {},
   "outputs": [
    {
     "data": {
      "text/plain": [
       "'Omkar Pomendkar'"
      ]
     },
     "execution_count": 69,
     "metadata": {},
     "output_type": "execute_result"
    }
   ],
   "source": [
    "o.title()"
   ]
  },
  {
   "cell_type": "code",
   "execution_count": 70,
   "id": "df3ea32d",
   "metadata": {},
   "outputs": [
    {
     "data": {
      "text/plain": [
       "'Omkar pomendkar'"
      ]
     },
     "execution_count": 70,
     "metadata": {},
     "output_type": "execute_result"
    }
   ],
   "source": [
    "o.capitalize()"
   ]
  },
  {
   "cell_type": "code",
   "execution_count": 72,
   "id": "27bedc74",
   "metadata": {},
   "outputs": [
    {
     "data": {
      "text/plain": [
       "'RAKDNEMOP RAKMO'"
      ]
     },
     "execution_count": 72,
     "metadata": {},
     "output_type": "execute_result"
    }
   ],
   "source": [
    "''.join(reversed(o))"
   ]
  },
  {
   "cell_type": "code",
   "execution_count": 73,
   "id": "abee1a97",
   "metadata": {},
   "outputs": [],
   "source": [
    "s = \"         omkrar  popommm         \""
   ]
  },
  {
   "cell_type": "code",
   "execution_count": 74,
   "id": "340a4a9f",
   "metadata": {},
   "outputs": [
    {
     "data": {
      "text/plain": [
       "'omkrar  popommm'"
      ]
     },
     "execution_count": 74,
     "metadata": {},
     "output_type": "execute_result"
    }
   ],
   "source": [
    "s.strip()"
   ]
  },
  {
   "cell_type": "code",
   "execution_count": 75,
   "id": "de8301d4",
   "metadata": {},
   "outputs": [
    {
     "data": {
      "text/plain": [
       "'omkrar  popommm         '"
      ]
     },
     "execution_count": 75,
     "metadata": {},
     "output_type": "execute_result"
    }
   ],
   "source": [
    "s.lstrip()"
   ]
  },
  {
   "cell_type": "code",
   "execution_count": 77,
   "id": "cbf12762",
   "metadata": {},
   "outputs": [
    {
     "data": {
      "text/plain": [
       "'         omkrar  popommm'"
      ]
     },
     "execution_count": 77,
     "metadata": {},
     "output_type": "execute_result"
    }
   ],
   "source": [
    "s.rstrip()"
   ]
  },
  {
   "cell_type": "code",
   "execution_count": 81,
   "id": "a14fe0ef",
   "metadata": {},
   "outputs": [
    {
     "data": {
      "text/plain": [
       "'??????Logitech??????'"
      ]
     },
     "execution_count": 81,
     "metadata": {},
     "output_type": "execute_result"
    }
   ],
   "source": [
    "l.center(20,\"?\")"
   ]
  },
  {
   "cell_type": "code",
   "execution_count": 82,
   "id": "cd600569",
   "metadata": {},
   "outputs": [
    {
     "data": {
      "text/plain": [
       "False"
      ]
     },
     "execution_count": 82,
     "metadata": {},
     "output_type": "execute_result"
    }
   ],
   "source": [
    "l.isupper()"
   ]
  },
  {
   "cell_type": "code",
   "execution_count": 85,
   "id": "c8673a6c",
   "metadata": {},
   "outputs": [],
   "source": [
    "a = \"Omkar\""
   ]
  },
  {
   "cell_type": "code",
   "execution_count": 88,
   "id": "7c6019f9",
   "metadata": {},
   "outputs": [
    {
     "data": {
      "text/plain": [
       "'rakmO'"
      ]
     },
     "execution_count": 88,
     "metadata": {},
     "output_type": "execute_result"
    }
   ],
   "source": [
    "''.join(reversed(a))"
   ]
  },
  {
   "cell_type": "code",
   "execution_count": 89,
   "id": "3fb96f98",
   "metadata": {},
   "outputs": [],
   "source": [
    "d = \"ineuron\""
   ]
  },
  {
   "cell_type": "code",
   "execution_count": 91,
   "id": "91e1b91c",
   "metadata": {},
   "outputs": [],
   "source": [
    "s = \"this is My First Python Programming class and i am Learning python Strings and its Functions\""
   ]
  },
  {
   "cell_type": "code",
   "execution_count": 92,
   "id": "3ba281c2",
   "metadata": {},
   "outputs": [
    {
     "name": "stdout",
     "output_type": "stream",
     "text": [
      "this is My First Python Programming class and i am Learning python Strings and its Functions\n"
     ]
    }
   ],
   "source": [
    "print(s)"
   ]
  },
  {
   "cell_type": "code",
   "execution_count": 93,
   "id": "a82b68b2",
   "metadata": {},
   "outputs": [
    {
     "data": {
      "text/plain": [
       "str"
      ]
     },
     "execution_count": 93,
     "metadata": {},
     "output_type": "execute_result"
    }
   ],
   "source": [
    "type(s)"
   ]
  },
  {
   "cell_type": "code",
   "execution_count": 94,
   "id": "c8573280",
   "metadata": {},
   "outputs": [
    {
     "data": {
      "text/plain": [
       "'h   r tnrrmglsnimengyoSisni nis'"
      ]
     },
     "execution_count": 94,
     "metadata": {},
     "output_type": "execute_result"
    }
   ],
   "source": [
    "s[1:300:3]"
   ]
  },
  {
   "cell_type": "code",
   "execution_count": 95,
   "id": "e4b8cfcb",
   "metadata": {},
   "outputs": [
    {
     "data": {
      "text/plain": [
       "'snoitcnuF sti dna sgnirtS nohtyp gninraeL ma i dna ssalc gnimmargorP nohtyP tsriF yM si siht'"
      ]
     },
     "execution_count": 95,
     "metadata": {},
     "output_type": "execute_result"
    }
   ],
   "source": [
    "s[::-1]"
   ]
  },
  {
   "cell_type": "code",
   "execution_count": 96,
   "id": "fe083631",
   "metadata": {},
   "outputs": [
    {
     "data": {
      "text/plain": [
       "'THIS IS MY FIRST PYTHON PROGRAMMING CLASS AND I AM LEARNING PYTHON STRINGS AND ITS FUNCTIONS'"
      ]
     },
     "execution_count": 96,
     "metadata": {},
     "output_type": "execute_result"
    }
   ],
   "source": [
    "s.upper()"
   ]
  },
  {
   "cell_type": "code",
   "execution_count": 98,
   "id": "28b1bd00",
   "metadata": {},
   "outputs": [
    {
     "data": {
      "text/plain": [
       "['this',\n",
       " 'is',\n",
       " 'My',\n",
       " 'First',\n",
       " 'Python',\n",
       " 'Programming',\n",
       " 'class',\n",
       " 'and',\n",
       " 'i',\n",
       " 'am',\n",
       " 'Learning',\n",
       " 'python',\n",
       " 'Strings',\n",
       " 'and',\n",
       " 'its',\n",
       " 'Functions']"
      ]
     },
     "execution_count": 98,
     "metadata": {},
     "output_type": "execute_result"
    }
   ],
   "source": [
    "s.split(\" \")"
   ]
  },
  {
   "cell_type": "code",
   "execution_count": 100,
   "id": "b5c2a820",
   "metadata": {},
   "outputs": [],
   "source": [
    "s= s.lower()"
   ]
  },
  {
   "cell_type": "code",
   "execution_count": 101,
   "id": "0f0a7681",
   "metadata": {},
   "outputs": [
    {
     "data": {
      "text/plain": [
       "'this is my first python programming class and i am learning python strings and its functions'"
      ]
     },
     "execution_count": 101,
     "metadata": {},
     "output_type": "execute_result"
    }
   ],
   "source": [
    "s"
   ]
  },
  {
   "cell_type": "raw",
   "id": "3d8d81c1",
   "metadata": {},
   "source": [
    "isanum : In this it shows the Character with Alphabet and Numeric True\n",
    "\n",
    "isalpha : Only Alphabet True"
   ]
  },
  {
   "cell_type": "code",
   "execution_count": 106,
   "id": "65c73742",
   "metadata": {},
   "outputs": [],
   "source": [
    "go=  \"               Omkar Pomendkar           \"\n"
   ]
  },
  {
   "cell_type": "code",
   "execution_count": 108,
   "id": "951b06b4",
   "metadata": {},
   "outputs": [
    {
     "data": {
      "text/plain": [
       "'Omkar Pomendkar           '"
      ]
     },
     "execution_count": 108,
     "metadata": {},
     "output_type": "execute_result"
    }
   ],
   "source": [
    "go.lstrip()"
   ]
  },
  {
   "cell_type": "code",
   "execution_count": 109,
   "id": "64849560",
   "metadata": {},
   "outputs": [
    {
     "data": {
      "text/plain": [
       "'Omkar Pomendkar'"
      ]
     },
     "execution_count": 109,
     "metadata": {},
     "output_type": "execute_result"
    }
   ],
   "source": [
    "go.strip()"
   ]
  },
  {
   "cell_type": "code",
   "execution_count": 110,
   "id": "d0986a8b",
   "metadata": {},
   "outputs": [
    {
     "data": {
      "text/plain": [
       "'               Omkar Pomendkar'"
      ]
     },
     "execution_count": 110,
     "metadata": {},
     "output_type": "execute_result"
    }
   ],
   "source": [
    "go.rstrip()"
   ]
  },
  {
   "cell_type": "code",
   "execution_count": 111,
   "id": "c00eb109",
   "metadata": {},
   "outputs": [],
   "source": [
    "j = \"Degree College\""
   ]
  },
  {
   "cell_type": "code",
   "execution_count": 113,
   "id": "df7bb13d",
   "metadata": {},
   "outputs": [],
   "source": [
    "j = j.replace(\"Degree\",\"Autonomus\")"
   ]
  },
  {
   "cell_type": "code",
   "execution_count": 114,
   "id": "5f011202",
   "metadata": {},
   "outputs": [
    {
     "data": {
      "text/plain": [
       "'Autonomus College'"
      ]
     },
     "execution_count": 114,
     "metadata": {},
     "output_type": "execute_result"
    }
   ],
   "source": [
    "\n",
    "j"
   ]
  },
  {
   "cell_type": "code",
   "execution_count": 115,
   "id": "8f7835ab",
   "metadata": {},
   "outputs": [],
   "source": [
    "s = \"Google\""
   ]
  },
  {
   "cell_type": "code",
   "execution_count": 116,
   "id": "fb12e980",
   "metadata": {},
   "outputs": [
    {
     "data": {
      "text/plain": [
       "'======================Google======================'"
      ]
     },
     "execution_count": 116,
     "metadata": {},
     "output_type": "execute_result"
    }
   ],
   "source": [
    "s.center(50,\"=\")"
   ]
  },
  {
   "cell_type": "code",
   "execution_count": null,
   "id": "5afe1464",
   "metadata": {},
   "outputs": [],
   "source": [
    "Compiler is a Program which Covents program return in High Level Languge to Low Level Languge\n",
    "Intrepreter is a PRogram which interprets the Program lIne by line and coverts it intolow level languge "
   ]
  }
 ],
 "metadata": {
  "kernelspec": {
   "display_name": "Python 3 (ipykernel)",
   "language": "python",
   "name": "python3"
  },
  "language_info": {
   "codemirror_mode": {
    "name": "ipython",
    "version": 3
   },
   "file_extension": ".py",
   "mimetype": "text/x-python",
   "name": "python",
   "nbconvert_exporter": "python",
   "pygments_lexer": "ipython3",
   "version": "3.9.7"
  }
 },
 "nbformat": 4,
 "nbformat_minor": 5
}
