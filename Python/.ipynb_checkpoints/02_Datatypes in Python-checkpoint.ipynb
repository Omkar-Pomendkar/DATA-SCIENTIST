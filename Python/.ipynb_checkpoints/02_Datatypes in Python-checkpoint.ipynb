{
 "cells": [
  {
   "cell_type": "markdown",
   "id": "cee04d62",
   "metadata": {},
   "source": [
    "## Strings\n",
    " Shift+Tab  : Details\n",
    " Dot + Tab  : Shows Function used in the Datattypes"
   ]
  },
  {
   "cell_type": "code",
   "execution_count": 1,
   "id": "998b17bf",
   "metadata": {},
   "outputs": [],
   "source": [
    "a = \"Omkar Pomendkar\""
   ]
  },
  {
   "cell_type": "code",
   "execution_count": 2,
   "id": "a95962b8",
   "metadata": {},
   "outputs": [
    {
     "data": {
      "text/plain": [
       "str"
      ]
     },
     "execution_count": 2,
     "metadata": {},
     "output_type": "execute_result"
    }
   ],
   "source": [
    "type(a)"
   ]
  },
  {
   "cell_type": "markdown",
   "id": "eb76ced1",
   "metadata": {},
   "source": [
    "## Set Datatypes\n",
    "Sets are unordered collections of unique objects, there are two types of set:\n",
    "1. Sets - They are mutable and new elements can be added once sets are defined\n",
    "2. Frozen Sets - They are immutable and new elements cannot added after its defined."
   ]
  },
  {
   "cell_type": "markdown",
   "id": "678f0e35",
   "metadata": {},
   "source": [
    "## Set"
   ]
  },
  {
   "cell_type": "code",
   "execution_count": 3,
   "id": "0b4754d8",
   "metadata": {},
   "outputs": [],
   "source": [
    "basket = { \"mango\",\"mango\",\"banana\",\"apple\",\"peear\"}"
   ]
  },
  {
   "cell_type": "code",
   "execution_count": null,
   "id": "e55accbe",
   "metadata": {},
   "outputs": [],
   "source": []
  },
  {
   "cell_type": "code",
   "execution_count": 4,
   "id": "faec470c",
   "metadata": {},
   "outputs": [
    {
     "data": {
      "text/plain": [
       "set"
      ]
     },
     "execution_count": 4,
     "metadata": {},
     "output_type": "execute_result"
    }
   ],
   "source": [
    "type(basket)"
   ]
  },
  {
   "cell_type": "code",
   "execution_count": 5,
   "id": "09303294",
   "metadata": {},
   "outputs": [
    {
     "name": "stdout",
     "output_type": "stream",
     "text": [
      "{'peear', 'mango', 'banana', 'apple'}\n"
     ]
    }
   ],
   "source": [
    "print(basket)"
   ]
  },
  {
   "cell_type": "code",
   "execution_count": 6,
   "id": "f2d0796e",
   "metadata": {},
   "outputs": [],
   "source": [
    "basket.add(\"Orange\")"
   ]
  },
  {
   "cell_type": "code",
   "execution_count": 7,
   "id": "97effdc3",
   "metadata": {},
   "outputs": [
    {
     "name": "stdout",
     "output_type": "stream",
     "text": [
      "{'banana', 'apple', 'peear', 'mango', 'Orange'}\n"
     ]
    }
   ],
   "source": [
    "print(basket)"
   ]
  },
  {
   "cell_type": "code",
   "execution_count": null,
   "id": "0a1f4b64",
   "metadata": {},
   "outputs": [],
   "source": []
  },
  {
   "cell_type": "code",
   "execution_count": 8,
   "id": "94db78f5",
   "metadata": {},
   "outputs": [
    {
     "name": "stdout",
     "output_type": "stream",
     "text": [
      "{'banana', 'apple', 'peear', 'mango', 'Orange'}\n"
     ]
    }
   ],
   "source": [
    "print(basket\n",
    "     )"
   ]
  },
  {
   "cell_type": "markdown",
   "id": "c6569c88",
   "metadata": {},
   "source": [
    "## Frozen Set"
   ]
  },
  {
   "cell_type": "code",
   "execution_count": 9,
   "id": "6bab8b2e",
   "metadata": {},
   "outputs": [],
   "source": [
    "b = frozenset(\"omkar\")"
   ]
  },
  {
   "cell_type": "code",
   "execution_count": 10,
   "id": "58975dd4",
   "metadata": {},
   "outputs": [
    {
     "name": "stdout",
     "output_type": "stream",
     "text": [
      "frozenset({'a', 'm', 'k', 'r', 'o'})\n"
     ]
    }
   ],
   "source": [
    "print(b)"
   ]
  },
  {
   "cell_type": "markdown",
   "id": "7adbc1a1",
   "metadata": {},
   "source": [
    "## Number Datatypes\n"
   ]
  },
  {
   "cell_type": "code",
   "execution_count": 11,
   "id": "1ca63982",
   "metadata": {},
   "outputs": [],
   "source": [
    "a = 10\n",
    "b = 45.5\n",
    "c = 34.7j\n",
    "#d = 1234567L"
   ]
  },
  {
   "cell_type": "code",
   "execution_count": 12,
   "id": "f633c5b6",
   "metadata": {},
   "outputs": [
    {
     "data": {
      "text/plain": [
       "int"
      ]
     },
     "execution_count": 12,
     "metadata": {},
     "output_type": "execute_result"
    }
   ],
   "source": [
    "type(a)"
   ]
  },
  {
   "cell_type": "code",
   "execution_count": 13,
   "id": "cd0562a4",
   "metadata": {},
   "outputs": [
    {
     "data": {
      "text/plain": [
       "float"
      ]
     },
     "execution_count": 13,
     "metadata": {},
     "output_type": "execute_result"
    }
   ],
   "source": [
    "type(b)"
   ]
  },
  {
   "cell_type": "code",
   "execution_count": 14,
   "id": "103698fd",
   "metadata": {},
   "outputs": [
    {
     "data": {
      "text/plain": [
       "complex"
      ]
     },
     "execution_count": 14,
     "metadata": {},
     "output_type": "execute_result"
    }
   ],
   "source": [
    "type(c)"
   ]
  },
  {
   "cell_type": "markdown",
   "id": "afdd8d36",
   "metadata": {},
   "source": [
    "## List Datatype"
   ]
  },
  {
   "cell_type": "raw",
   "id": "84bc8a33",
   "metadata": {},
   "source": [
    "A list contains items separated by commas and enclosed within square brackets [].lists are almost similar to arrays\n",
    "in C. One difference is that all the items belonging to a list can be of different data type\n"
   ]
  },
  {
   "cell_type": "code",
   "execution_count": 15,
   "id": "967dcd23",
   "metadata": {},
   "outputs": [],
   "source": [
    "l1= [1,2,3,4,5,6,[\"Omkar\",\"Pomendkar\"],90.5,'A']"
   ]
  },
  {
   "cell_type": "code",
   "execution_count": 16,
   "id": "4794b7bc",
   "metadata": {},
   "outputs": [
    {
     "name": "stdout",
     "output_type": "stream",
     "text": [
      "[1, 2, 3, 4, 5, 6, ['Omkar', 'Pomendkar'], 90.5, 'A']\n"
     ]
    }
   ],
   "source": [
    "print(l1)"
   ]
  },
  {
   "cell_type": "code",
   "execution_count": 17,
   "id": "68874a08",
   "metadata": {},
   "outputs": [
    {
     "data": {
      "text/plain": [
       "list"
      ]
     },
     "execution_count": 17,
     "metadata": {},
     "output_type": "execute_result"
    }
   ],
   "source": [
    "type(l1)"
   ]
  },
  {
   "cell_type": "code",
   "execution_count": 18,
   "id": "e539ba4a",
   "metadata": {},
   "outputs": [
    {
     "data": {
      "text/plain": [
       "1"
      ]
     },
     "execution_count": 18,
     "metadata": {},
     "output_type": "execute_result"
    }
   ],
   "source": [
    "l1[0]"
   ]
  },
  {
   "cell_type": "code",
   "execution_count": 19,
   "id": "fe0854b2",
   "metadata": {},
   "outputs": [
    {
     "data": {
      "text/plain": [
       "'A'"
      ]
     },
     "execution_count": 19,
     "metadata": {},
     "output_type": "execute_result"
    }
   ],
   "source": [
    "l1[-1]"
   ]
  },
  {
   "cell_type": "code",
   "execution_count": 20,
   "id": "78f1f758",
   "metadata": {},
   "outputs": [
    {
     "data": {
      "text/plain": [
       "9"
      ]
     },
     "execution_count": 20,
     "metadata": {},
     "output_type": "execute_result"
    }
   ],
   "source": [
    "len(l1)"
   ]
  },
  {
   "cell_type": "code",
   "execution_count": 21,
   "id": "93423878",
   "metadata": {},
   "outputs": [
    {
     "data": {
      "text/plain": [
       "[3, 4, 5, 6, ['Omkar', 'Pomendkar'], 90.5]"
      ]
     },
     "execution_count": 21,
     "metadata": {},
     "output_type": "execute_result"
    }
   ],
   "source": [
    "l1[2:8]"
   ]
  },
  {
   "cell_type": "code",
   "execution_count": 22,
   "id": "9ba054ce",
   "metadata": {},
   "outputs": [
    {
     "data": {
      "text/plain": [
       "['A', 90.5, ['Omkar', 'Pomendkar'], 6, 5, 4, 3, 2, 1]"
      ]
     },
     "execution_count": 22,
     "metadata": {},
     "output_type": "execute_result"
    }
   ],
   "source": [
    "# Reversing a List\n",
    "l1[::-1]"
   ]
  },
  {
   "cell_type": "code",
   "execution_count": 23,
   "id": "eb8b8440",
   "metadata": {},
   "outputs": [
    {
     "data": {
      "text/plain": [
       "[1, 3, 5, ['Omkar', 'Pomendkar'], 'A']"
      ]
     },
     "execution_count": 23,
     "metadata": {},
     "output_type": "execute_result"
    }
   ],
   "source": [
    "l1[0:100:2]\n"
   ]
  },
  {
   "cell_type": "code",
   "execution_count": 24,
   "id": "b8d22543",
   "metadata": {},
   "outputs": [
    {
     "data": {
      "text/plain": [
       "[1, 2, 3]"
      ]
     },
     "execution_count": 24,
     "metadata": {},
     "output_type": "execute_result"
    }
   ],
   "source": [
    "l1[:3]"
   ]
  },
  {
   "cell_type": "code",
   "execution_count": 25,
   "id": "01cd20e6",
   "metadata": {},
   "outputs": [
    {
     "data": {
      "text/plain": [
       "[1, 2, 3, 4, 5, 6, ['Omkar', 'Pomendkar'], 90.5, 'A', 'omkar']"
      ]
     },
     "execution_count": 25,
     "metadata": {},
     "output_type": "execute_result"
    }
   ],
   "source": [
    "# At the end it enters\n",
    "l1+[\"omkar\"]"
   ]
  },
  {
   "cell_type": "code",
   "execution_count": 26,
   "id": "a7797001",
   "metadata": {},
   "outputs": [
    {
     "data": {
      "text/plain": [
       "[1,\n",
       " 2,\n",
       " 3,\n",
       " 4,\n",
       " 5,\n",
       " 6,\n",
       " ['Omkar', 'Pomendkar'],\n",
       " 90.5,\n",
       " 'A',\n",
       " 1,\n",
       " 2,\n",
       " 3,\n",
       " 4,\n",
       " 5,\n",
       " 6,\n",
       " ['Omkar', 'Pomendkar'],\n",
       " 90.5,\n",
       " 'A']"
      ]
     },
     "execution_count": 26,
     "metadata": {},
     "output_type": "execute_result"
    }
   ],
   "source": [
    "# The List Multiply 2\n",
    "l1 * 2"
   ]
  },
  {
   "cell_type": "code",
   "execution_count": 27,
   "id": "41e9b5ea",
   "metadata": {},
   "outputs": [
    {
     "data": {
      "text/plain": [
       "[1, 2, 3, 4, 5, 6, ['Omkar', 'Pomendkar'], 90.5, 'A']"
      ]
     },
     "execution_count": 27,
     "metadata": {},
     "output_type": "execute_result"
    }
   ],
   "source": [
    "l1"
   ]
  },
  {
   "cell_type": "code",
   "execution_count": 28,
   "id": "86472d1b",
   "metadata": {},
   "outputs": [
    {
     "data": {
      "text/plain": [
       "True"
      ]
     },
     "execution_count": 28,
     "metadata": {},
     "output_type": "execute_result"
    }
   ],
   "source": [
    "6 in l1"
   ]
  },
  {
   "cell_type": "code",
   "execution_count": 29,
   "id": "2d95d65b",
   "metadata": {},
   "outputs": [
    {
     "data": {
      "text/plain": [
       "True"
      ]
     },
     "execution_count": 29,
     "metadata": {},
     "output_type": "execute_result"
    }
   ],
   "source": [
    "\"Omkar\" in l1[6]"
   ]
  },
  {
   "cell_type": "code",
   "execution_count": 30,
   "id": "c36d9eb4",
   "metadata": {},
   "outputs": [],
   "source": [
    "m = [1,2,3,4,5,6,7,8,9]"
   ]
  },
  {
   "cell_type": "code",
   "execution_count": 31,
   "id": "8cb0cdde",
   "metadata": {},
   "outputs": [
    {
     "data": {
      "text/plain": [
       "9"
      ]
     },
     "execution_count": 31,
     "metadata": {},
     "output_type": "execute_result"
    }
   ],
   "source": [
    "max(m)"
   ]
  },
  {
   "cell_type": "code",
   "execution_count": 32,
   "id": "51e87010",
   "metadata": {},
   "outputs": [
    {
     "data": {
      "text/plain": [
       "1"
      ]
     },
     "execution_count": 32,
     "metadata": {},
     "output_type": "execute_result"
    }
   ],
   "source": [
    "min(m)"
   ]
  },
  {
   "cell_type": "code",
   "execution_count": 33,
   "id": "27e21bf1",
   "metadata": {},
   "outputs": [],
   "source": [
    "l2 =  [\"omkar\",\"sanjay\",\"Pomendkar\"]\n",
    "# Based on Alphabatically Order"
   ]
  },
  {
   "cell_type": "code",
   "execution_count": 34,
   "id": "79bd2b43",
   "metadata": {},
   "outputs": [
    {
     "data": {
      "text/plain": [
       "'Pomendkar'"
      ]
     },
     "execution_count": 34,
     "metadata": {},
     "output_type": "execute_result"
    }
   ],
   "source": [
    "min(l2)"
   ]
  },
  {
   "cell_type": "code",
   "execution_count": 35,
   "id": "b1d5ce52",
   "metadata": {},
   "outputs": [],
   "source": [
    "l2.append (3)"
   ]
  },
  {
   "cell_type": "code",
   "execution_count": 36,
   "id": "2b01a1aa",
   "metadata": {},
   "outputs": [
    {
     "data": {
      "text/plain": [
       "['omkar', 'sanjay', 'Pomendkar', 3]"
      ]
     },
     "execution_count": 36,
     "metadata": {},
     "output_type": "execute_result"
    }
   ],
   "source": [
    "l2"
   ]
  },
  {
   "cell_type": "code",
   "execution_count": 37,
   "id": "62dc6cb6",
   "metadata": {},
   "outputs": [],
   "source": [
    "l2.append([1,2,3,4,5])"
   ]
  },
  {
   "cell_type": "code",
   "execution_count": 38,
   "id": "67c150a9",
   "metadata": {},
   "outputs": [
    {
     "data": {
      "text/plain": [
       "['omkar', 'sanjay', 'Pomendkar', 3, [1, 2, 3, 4, 5]]"
      ]
     },
     "execution_count": 38,
     "metadata": {},
     "output_type": "execute_result"
    }
   ],
   "source": [
    "l2"
   ]
  },
  {
   "cell_type": "code",
   "execution_count": 39,
   "id": "15cbad3d",
   "metadata": {},
   "outputs": [
    {
     "data": {
      "text/plain": [
       "[1, 2, 3, 4, 5]"
      ]
     },
     "execution_count": 39,
     "metadata": {},
     "output_type": "execute_result"
    }
   ],
   "source": [
    "l2.pop()"
   ]
  },
  {
   "cell_type": "code",
   "execution_count": 40,
   "id": "e53cd0ef",
   "metadata": {},
   "outputs": [],
   "source": [
    "l3 = [1,34,33,6,78,43,23]"
   ]
  },
  {
   "cell_type": "code",
   "execution_count": 41,
   "id": "52a28952",
   "metadata": {},
   "outputs": [],
   "source": [
    "l3.sort()"
   ]
  },
  {
   "cell_type": "code",
   "execution_count": 42,
   "id": "31a1018e",
   "metadata": {},
   "outputs": [
    {
     "data": {
      "text/plain": [
       "[1, 6, 23, 33, 34, 43, 78]"
      ]
     },
     "execution_count": 42,
     "metadata": {},
     "output_type": "execute_result"
    }
   ],
   "source": [
    "l3"
   ]
  },
  {
   "cell_type": "code",
   "execution_count": 43,
   "id": "c700a335",
   "metadata": {},
   "outputs": [],
   "source": [
    "l3.clear()"
   ]
  },
  {
   "cell_type": "code",
   "execution_count": 44,
   "id": "32a99710",
   "metadata": {},
   "outputs": [
    {
     "data": {
      "text/plain": [
       "[]"
      ]
     },
     "execution_count": 44,
     "metadata": {},
     "output_type": "execute_result"
    }
   ],
   "source": [
    "l3"
   ]
  },
  {
   "cell_type": "code",
   "execution_count": 45,
   "id": "8c07d176",
   "metadata": {},
   "outputs": [],
   "source": [
    "l4 = [1,2,3,4,5,2,2,2,2,23,4]"
   ]
  },
  {
   "cell_type": "code",
   "execution_count": 46,
   "id": "3c287be6",
   "metadata": {},
   "outputs": [
    {
     "data": {
      "text/plain": [
       "5"
      ]
     },
     "execution_count": 46,
     "metadata": {},
     "output_type": "execute_result"
    }
   ],
   "source": [
    "l4.count(2)"
   ]
  },
  {
   "cell_type": "code",
   "execution_count": 49,
   "id": "95ed944a",
   "metadata": {},
   "outputs": [],
   "source": [
    "l4.extend([23,45])"
   ]
  },
  {
   "cell_type": "code",
   "execution_count": 50,
   "id": "e5783319",
   "metadata": {},
   "outputs": [
    {
     "data": {
      "text/plain": [
       "[1, 2, 3, 4, 5, 2, 2, 2, 2, 23, 4, 23, 45]"
      ]
     },
     "execution_count": 50,
     "metadata": {},
     "output_type": "execute_result"
    }
   ],
   "source": [
    "l4"
   ]
  },
  {
   "cell_type": "code",
   "execution_count": 51,
   "id": "6db6db9e",
   "metadata": {},
   "outputs": [],
   "source": [
    "l4.insert(1,899)"
   ]
  },
  {
   "cell_type": "code",
   "execution_count": 52,
   "id": "dcd11145",
   "metadata": {},
   "outputs": [
    {
     "data": {
      "text/plain": [
       "[1, 899, 2, 3, 4, 5, 2, 2, 2, 2, 23, 4, 23, 45]"
      ]
     },
     "execution_count": 52,
     "metadata": {},
     "output_type": "execute_result"
    }
   ],
   "source": [
    "l4"
   ]
  },
  {
   "cell_type": "code",
   "execution_count": 53,
   "id": "79823109",
   "metadata": {},
   "outputs": [],
   "source": [
    "l4.remove(2)"
   ]
  },
  {
   "cell_type": "code",
   "execution_count": 54,
   "id": "9e11c889",
   "metadata": {},
   "outputs": [
    {
     "data": {
      "text/plain": [
       "[1, 899, 3, 4, 5, 2, 2, 2, 2, 23, 4, 23, 45]"
      ]
     },
     "execution_count": 54,
     "metadata": {},
     "output_type": "execute_result"
    }
   ],
   "source": [
    "l4\n"
   ]
  },
  {
   "cell_type": "markdown",
   "id": "52f4de0a",
   "metadata": {},
   "source": [
    "# Tuple"
   ]
  },
  {
   "cell_type": "code",
   "execution_count": 55,
   "id": "4375fa2f",
   "metadata": {},
   "outputs": [],
   "source": [
    "t = (12,34,56,6,7)"
   ]
  },
  {
   "cell_type": "code",
   "execution_count": 56,
   "id": "8cc7c900",
   "metadata": {},
   "outputs": [
    {
     "data": {
      "text/plain": [
       "tuple"
      ]
     },
     "execution_count": 56,
     "metadata": {},
     "output_type": "execute_result"
    }
   ],
   "source": [
    "type(t)"
   ]
  },
  {
   "cell_type": "code",
   "execution_count": 57,
   "id": "2e849131",
   "metadata": {},
   "outputs": [
    {
     "data": {
      "text/plain": [
       "1"
      ]
     },
     "execution_count": 57,
     "metadata": {},
     "output_type": "execute_result"
    }
   ],
   "source": [
    "t.count(12)"
   ]
  },
  {
   "cell_type": "code",
   "execution_count": 59,
   "id": "d10abd3e",
   "metadata": {},
   "outputs": [
    {
     "data": {
      "text/plain": [
       "1"
      ]
     },
     "execution_count": 59,
     "metadata": {},
     "output_type": "execute_result"
    }
   ],
   "source": [
    "t.index(34)\n"
   ]
  },
  {
   "cell_type": "code",
   "execution_count": 60,
   "id": "dc58f152",
   "metadata": {},
   "outputs": [
    {
     "data": {
      "text/plain": [
       "7"
      ]
     },
     "execution_count": 60,
     "metadata": {},
     "output_type": "execute_result"
    }
   ],
   "source": [
    "t[-1]"
   ]
  },
  {
   "cell_type": "markdown",
   "id": "93a4906c",
   "metadata": {},
   "source": [
    "# Dictionary\n"
   ]
  },
  {
   "cell_type": "code",
   "execution_count": 61,
   "id": "bf6abcef",
   "metadata": {},
   "outputs": [],
   "source": [
    "d = {1: \"one\", 2 : \"Two\"}"
   ]
  },
  {
   "cell_type": "code",
   "execution_count": 62,
   "id": "2825c575",
   "metadata": {},
   "outputs": [
    {
     "data": {
      "text/plain": [
       "dict"
      ]
     },
     "execution_count": 62,
     "metadata": {},
     "output_type": "execute_result"
    }
   ],
   "source": [
    "type(d)"
   ]
  },
  {
   "cell_type": "code",
   "execution_count": 64,
   "id": "78c96543",
   "metadata": {},
   "outputs": [
    {
     "data": {
      "text/plain": [
       "dict_values(['one', 'Two'])"
      ]
     },
     "execution_count": 64,
     "metadata": {},
     "output_type": "execute_result"
    }
   ],
   "source": [
    "d.values()"
   ]
  },
  {
   "cell_type": "code",
   "execution_count": 65,
   "id": "f0479c9c",
   "metadata": {},
   "outputs": [
    {
     "data": {
      "text/plain": [
       "dict_keys([1, 2])"
      ]
     },
     "execution_count": 65,
     "metadata": {},
     "output_type": "execute_result"
    }
   ],
   "source": [
    "d.keys()"
   ]
  },
  {
   "cell_type": "code",
   "execution_count": 76,
   "id": "8138c308",
   "metadata": {},
   "outputs": [],
   "source": [
    "f = [3,4,5,6,7 , [23,456,67,8,78,78] , [345,56,87,8,98,9] , (234,6657,6) , {\"key1\" :\"sudh\" , 234:[23,45,656]}]"
   ]
  },
  {
   "cell_type": "code",
   "execution_count": 77,
   "id": "610e17ff",
   "metadata": {},
   "outputs": [],
   "source": [
    "#f.reverse()"
   ]
  },
  {
   "cell_type": "code",
   "execution_count": 78,
   "id": "822e85ba",
   "metadata": {},
   "outputs": [
    {
     "data": {
      "text/plain": [
       "[3,\n",
       " 4,\n",
       " 5,\n",
       " 6,\n",
       " 7,\n",
       " [23, 456, 67, 8, 78, 78],\n",
       " [345, 56, 87, 8, 98, 9],\n",
       " (234, 6657, 6),\n",
       " {'key1': 'sudh', 234: [23, 45, 656]}]"
      ]
     },
     "execution_count": 78,
     "metadata": {},
     "output_type": "execute_result"
    }
   ],
   "source": [
    "f"
   ]
  },
  {
   "cell_type": "code",
   "execution_count": 88,
   "id": "fe37e056",
   "metadata": {},
   "outputs": [
    {
     "data": {
      "text/plain": [
       "[345, 56, 87, 8, 98, 9]"
      ]
     },
     "execution_count": 88,
     "metadata": {},
     "output_type": "execute_result"
    }
   ],
   "source": [
    "f[6]"
   ]
  },
  {
   "cell_type": "code",
   "execution_count": null,
   "id": "d52fce66",
   "metadata": {},
   "outputs": [],
   "source": []
  }
 ],
 "metadata": {
  "kernelspec": {
   "display_name": "Python 3 (ipykernel)",
   "language": "python",
   "name": "python3"
  },
  "language_info": {
   "codemirror_mode": {
    "name": "ipython",
    "version": 3
   },
   "file_extension": ".py",
   "mimetype": "text/x-python",
   "name": "python",
   "nbconvert_exporter": "python",
   "pygments_lexer": "ipython3",
   "version": "3.9.7"
  }
 },
 "nbformat": 4,
 "nbformat_minor": 5
}
