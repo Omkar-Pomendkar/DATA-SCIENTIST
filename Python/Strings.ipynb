{
 "cells": [
  {
   "cell_type": "code",
   "execution_count": 22,
   "id": "cd083aba",
   "metadata": {},
   "outputs": [],
   "source": [
    "s = \"omkarPomendkar\""
   ]
  },
  {
   "cell_type": "code",
   "execution_count": 2,
   "id": "c4b4c379",
   "metadata": {},
   "outputs": [
    {
     "data": {
      "text/plain": [
       "str"
      ]
     },
     "execution_count": 2,
     "metadata": {},
     "output_type": "execute_result"
    }
   ],
   "source": [
    "type(s)"
   ]
  },
  {
   "cell_type": "code",
   "execution_count": 3,
   "id": "8e17c43e",
   "metadata": {},
   "outputs": [
    {
     "name": "stdout",
     "output_type": "stream",
     "text": [
      "OmkarPomendkar\n"
     ]
    }
   ],
   "source": [
    "print(s)"
   ]
  },
  {
   "cell_type": "code",
   "execution_count": 4,
   "id": "ead548a7",
   "metadata": {},
   "outputs": [
    {
     "data": {
      "text/plain": [
       "14"
      ]
     },
     "execution_count": 4,
     "metadata": {},
     "output_type": "execute_result"
    }
   ],
   "source": [
    "len(s)"
   ]
  },
  {
   "cell_type": "code",
   "execution_count": 5,
   "id": "feb77a49",
   "metadata": {},
   "outputs": [
    {
     "data": {
      "text/plain": [
       "'O'"
      ]
     },
     "execution_count": 5,
     "metadata": {},
     "output_type": "execute_result"
    }
   ],
   "source": [
    "s[0]"
   ]
  },
  {
   "cell_type": "code",
   "execution_count": 6,
   "id": "9c212360",
   "metadata": {},
   "outputs": [
    {
     "data": {
      "text/plain": [
       "'OmkarPomen'"
      ]
     },
     "execution_count": 6,
     "metadata": {},
     "output_type": "execute_result"
    }
   ],
   "source": [
    "s[0:10]"
   ]
  },
  {
   "cell_type": "code",
   "execution_count": 7,
   "id": "67045b51",
   "metadata": {},
   "outputs": [
    {
     "data": {
      "text/plain": [
       "'rakdnemoPrakmO'"
      ]
     },
     "execution_count": 7,
     "metadata": {},
     "output_type": "execute_result"
    }
   ],
   "source": [
    "s[::-1]"
   ]
  },
  {
   "cell_type": "code",
   "execution_count": 8,
   "id": "59a69039",
   "metadata": {},
   "outputs": [
    {
     "data": {
      "text/plain": [
       "'Omkarpomendkar'"
      ]
     },
     "execution_count": 8,
     "metadata": {},
     "output_type": "execute_result"
    }
   ],
   "source": [
    "s.capitalize()"
   ]
  },
  {
   "cell_type": "code",
   "execution_count": 9,
   "id": "2a7447cc",
   "metadata": {},
   "outputs": [
    {
     "data": {
      "text/plain": [
       "'omkarpomendkar'"
      ]
     },
     "execution_count": 9,
     "metadata": {},
     "output_type": "execute_result"
    }
   ],
   "source": [
    "s.casefold()"
   ]
  },
  {
   "cell_type": "code",
   "execution_count": 18,
   "id": "60405e67",
   "metadata": {},
   "outputs": [],
   "source": [
    "a = s.center(50,\"O\")"
   ]
  },
  {
   "cell_type": "code",
   "execution_count": 19,
   "id": "4a8a8744",
   "metadata": {},
   "outputs": [
    {
     "data": {
      "text/plain": [
       "'OOOOOOOOOOOOOOOOOOOmkarPomendkarOOOOOOOOOOOOOOOOOO'"
      ]
     },
     "execution_count": 19,
     "metadata": {},
     "output_type": "execute_result"
    }
   ],
   "source": [
    "a"
   ]
  },
  {
   "cell_type": "code",
   "execution_count": 23,
   "id": "6a981078",
   "metadata": {},
   "outputs": [
    {
     "data": {
      "text/plain": [
       "2"
      ]
     },
     "execution_count": 23,
     "metadata": {},
     "output_type": "execute_result"
    }
   ],
   "source": [
    "s.count(\"o\")"
   ]
  },
  {
   "cell_type": "code",
   "execution_count": 27,
   "id": "b79dd006",
   "metadata": {},
   "outputs": [
    {
     "data": {
      "text/plain": [
       "True"
      ]
     },
     "execution_count": 27,
     "metadata": {},
     "output_type": "execute_result"
    }
   ],
   "source": [
    "s.endswith(\"r\")"
   ]
  },
  {
   "cell_type": "code",
   "execution_count": 28,
   "id": "f0d29d0f",
   "metadata": {},
   "outputs": [
    {
     "data": {
      "text/plain": [
       "b'omkarPomendkar'"
      ]
     },
     "execution_count": 28,
     "metadata": {},
     "output_type": "execute_result"
    }
   ],
   "source": [
    "s.encode(encoding=\"ascii\",errors=\"replace\")"
   ]
  },
  {
   "cell_type": "code",
   "execution_count": 31,
   "id": "522d7dbe",
   "metadata": {},
   "outputs": [],
   "source": [
    "r = \"omkarPomendkar\""
   ]
  },
  {
   "cell_type": "code",
   "execution_count": 32,
   "id": "36d30af8",
   "metadata": {},
   "outputs": [
    {
     "data": {
      "text/plain": [
       "'omkarPomendkar'"
      ]
     },
     "execution_count": 32,
     "metadata": {},
     "output_type": "execute_result"
    }
   ],
   "source": [
    "r.expandtabs(tabsize=8)"
   ]
  },
  {
   "cell_type": "code",
   "execution_count": 33,
   "id": "634161ae",
   "metadata": {},
   "outputs": [
    {
     "data": {
      "text/plain": [
       "<function str.find>"
      ]
     },
     "execution_count": 33,
     "metadata": {},
     "output_type": "execute_result"
    }
   ],
   "source": [
    "r.find"
   ]
  },
  {
   "cell_type": "markdown",
   "id": "27299f54",
   "metadata": {},
   "source": [
    "# F Strrings"
   ]
  },
  {
   "cell_type": "code",
   "execution_count": 34,
   "id": "e18903f9",
   "metadata": {},
   "outputs": [],
   "source": [
    "s = \"OMkar POmendkar\""
   ]
  },
  {
   "cell_type": "code",
   "execution_count": 35,
   "id": "bb49afb2",
   "metadata": {},
   "outputs": [],
   "source": [
    "s1 = 100"
   ]
  },
  {
   "cell_type": "code",
   "execution_count": 36,
   "id": "5797b0df",
   "metadata": {},
   "outputs": [
    {
     "ename": "NameError",
     "evalue": "name 's2' is not defined",
     "output_type": "error",
     "traceback": [
      "\u001b[1;31m---------------------------------------------------------------------------\u001b[0m",
      "\u001b[1;31mNameError\u001b[0m                                 Traceback (most recent call last)",
      "\u001b[1;32mC:\\PROGRA~1\\KMSpico\\temp/ipykernel_1800/3387528519.py\u001b[0m in \u001b[0;36m<module>\u001b[1;34m\u001b[0m\n\u001b[1;32m----> 1\u001b[1;33m \u001b[0ms2\u001b[0m \u001b[1;33m=\u001b[0m \u001b[0ms1\u001b[0m\u001b[1;33m+\u001b[0m\u001b[0ms2\u001b[0m\u001b[1;33m\u001b[0m\u001b[1;33m\u001b[0m\u001b[0m\n\u001b[0m",
      "\u001b[1;31mNameError\u001b[0m: name 's2' is not defined"
     ]
    }
   ],
   "source": [
    "s2 = s1+s2"
   ]
  },
  {
   "cell_type": "code",
   "execution_count": null,
   "id": "31791342",
   "metadata": {},
   "outputs": [],
   "source": []
  }
 ],
 "metadata": {
  "kernelspec": {
   "display_name": "Python 3 (ipykernel)",
   "language": "python",
   "name": "python3"
  },
  "language_info": {
   "codemirror_mode": {
    "name": "ipython",
    "version": 3
   },
   "file_extension": ".py",
   "mimetype": "text/x-python",
   "name": "python",
   "nbconvert_exporter": "python",
   "pygments_lexer": "ipython3",
   "version": "3.9.7"
  }
 },
 "nbformat": 4,
 "nbformat_minor": 5
}
