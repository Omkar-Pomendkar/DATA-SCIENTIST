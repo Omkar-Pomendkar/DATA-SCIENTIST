{
 "cells": [
  {
   "cell_type": "markdown",
   "id": "7b8d03fc",
   "metadata": {},
   "source": [
    "## Learning Python Language\n"
   ]
  },
  {
   "cell_type": "code",
   "execution_count": 1,
   "id": "b4428be4",
   "metadata": {},
   "outputs": [
    {
     "name": "stdout",
     "output_type": "stream",
     "text": [
      "Omkar Pomendkar\n"
     ]
    }
   ],
   "source": [
    "print(\"Omkar Pomendkar\")"
   ]
  },
  {
   "cell_type": "code",
   "execution_count": 2,
   "id": "0005f039",
   "metadata": {},
   "outputs": [
    {
     "name": "stdout",
     "output_type": "stream",
     "text": [
      "Hello World\n"
     ]
    }
   ],
   "source": [
    "print(\"Hello World\")"
   ]
  },
  {
   "cell_type": "markdown",
   "id": "a0d5055b",
   "metadata": {},
   "source": [
    "# Variables\n"
   ]
  },
  {
   "cell_type": "raw",
   "id": "c12a8a43",
   "metadata": {},
   "source": [
    "Python uses = to assign values to variables. There's no need to declare a variable in advance (or to assign a data\n",
    "type to it), assigning a value to a variable itself declares and initializes the variable with that value. There's no way to\n",
    "declare a variable without assigning it an initial value."
   ]
  },
  {
   "cell_type": "code",
   "execution_count": 7,
   "id": "7e0c6f02",
   "metadata": {},
   "outputs": [],
   "source": [
    "\"\"\"Integer\"\"\"\n",
    "a = 10"
   ]
  },
  {
   "cell_type": "code",
   "execution_count": 8,
   "id": "a9979d26",
   "metadata": {},
   "outputs": [
    {
     "name": "stdout",
     "output_type": "stream",
     "text": [
      "10\n"
     ]
    }
   ],
   "source": [
    "print(a)"
   ]
  },
  {
   "cell_type": "code",
   "execution_count": 9,
   "id": "dfcd11df",
   "metadata": {},
   "outputs": [
    {
     "data": {
      "text/plain": [
       "int"
      ]
     },
     "execution_count": 9,
     "metadata": {},
     "output_type": "execute_result"
    }
   ],
   "source": [
    "type(a)"
   ]
  },
  {
   "cell_type": "code",
   "execution_count": 10,
   "id": "e549b8ae",
   "metadata": {},
   "outputs": [
    {
     "name": "stdout",
     "output_type": "stream",
     "text": [
      "34.5\n"
     ]
    }
   ],
   "source": [
    "\"\"\"Float\"\"\"\n",
    "b = 34.5\n",
    "print(b)"
   ]
  },
  {
   "cell_type": "code",
   "execution_count": 11,
   "id": "81f737cc",
   "metadata": {},
   "outputs": [
    {
     "name": "stdout",
     "output_type": "stream",
     "text": [
      "Omkar Pomendkar\n"
     ]
    }
   ],
   "source": [
    "\"\"\"String\"\"\"\n",
    "c = \"Omkar Pomendkar\"\n",
    "print(c)"
   ]
  },
  {
   "cell_type": "code",
   "execution_count": 12,
   "id": "5f363770",
   "metadata": {},
   "outputs": [],
   "source": [
    "\"\"\"Boolean\"\"\"\n",
    "d = True"
   ]
  },
  {
   "cell_type": "code",
   "execution_count": 13,
   "id": "2c001a38",
   "metadata": {},
   "outputs": [
    {
     "name": "stdout",
     "output_type": "stream",
     "text": [
      "True\n"
     ]
    }
   ],
   "source": [
    "print(d)"
   ]
  },
  {
   "cell_type": "code",
   "execution_count": 14,
   "id": "e9adff8d",
   "metadata": {},
   "outputs": [
    {
     "name": "stdout",
     "output_type": "stream",
     "text": [
      "None\n"
     ]
    }
   ],
   "source": [
    "x = None \n",
    "print(x)"
   ]
  },
  {
   "cell_type": "raw",
   "id": "07f92dd1",
   "metadata": {},
   "source": [
    "1. Variables names must start with a letter or an underscore.\n",
    " x = True # valid\n",
    " _y = True # valid\n",
    " 9x = False # starts with numeral\n",
    "=> SyntaxError: invalid syntax \n",
    " $y = False # starts with symbol\n",
    "=> SyntaxError: invalid syntax\n",
    "2. The remainder of your variable name may consist of letters, numbers and underscores.\n",
    "has_0_in_it = \"Still Valid\"\n",
    "3. Names are case sensitive.\n",
    "x = 9 \n",
    "y = X*5 \n",
    "=>NameError: name 'X' is not define"
   ]
  },
  {
   "cell_type": "markdown",
   "id": "abb417ad",
   "metadata": {},
   "source": [
    "# Global Variables"
   ]
  },
  {
   "cell_type": "code",
   "execution_count": 1,
   "id": "32492208",
   "metadata": {},
   "outputs": [
    {
     "name": "stdout",
     "output_type": "stream",
     "text": [
      "python is Omkar\n"
     ]
    }
   ],
   "source": [
    "a = \"good\"\n",
    "\n",
    "def test():\n",
    "    global a\n",
    "    a = \"Omkar\"\n",
    "    \n",
    "test()\n",
    "\n",
    "print(\"python is \" + a)"
   ]
  },
  {
   "cell_type": "code",
   "execution_count": null,
   "id": "55a45f41",
   "metadata": {},
   "outputs": [],
   "source": []
  },
  {
   "cell_type": "markdown",
   "id": "6f157d47",
   "metadata": {},
   "source": [
    " ## Multiple Assignment"
   ]
  },
  {
   "cell_type": "code",
   "execution_count": 17,
   "id": "531879c6",
   "metadata": {},
   "outputs": [],
   "source": [
    "e,f,g = 90 ,10,30"
   ]
  },
  {
   "cell_type": "code",
   "execution_count": 18,
   "id": "b4ee7073",
   "metadata": {},
   "outputs": [
    {
     "name": "stdout",
     "output_type": "stream",
     "text": [
      "90\n"
     ]
    }
   ],
   "source": [
    "print(e)"
   ]
  },
  {
   "cell_type": "code",
   "execution_count": 20,
   "id": "4f3463b0",
   "metadata": {},
   "outputs": [],
   "source": [
    " h,j,k, = 5,6,_"
   ]
  },
  {
   "cell_type": "code",
   "execution_count": 21,
   "id": "052a9086",
   "metadata": {},
   "outputs": [
    {
     "name": "stdout",
     "output_type": "stream",
     "text": [
      "<class 'int'>\n"
     ]
    }
   ],
   "source": [
    "print(k)"
   ]
  },
  {
   "cell_type": "code",
   "execution_count": 22,
   "id": "77216643",
   "metadata": {},
   "outputs": [],
   "source": [
    "t,y,_ = 10,20,40"
   ]
  },
  {
   "cell_type": "code",
   "execution_count": 23,
   "id": "80236f68",
   "metadata": {},
   "outputs": [
    {
     "name": "stdout",
     "output_type": "stream",
     "text": [
      "40\n"
     ]
    }
   ],
   "source": [
    "print(_)"
   ]
  },
  {
   "cell_type": "code",
   "execution_count": 24,
   "id": "da6489da",
   "metadata": {},
   "outputs": [],
   "source": [
    "a=b=c = 45"
   ]
  },
  {
   "cell_type": "code",
   "execution_count": 25,
   "id": "fe85dcc4",
   "metadata": {},
   "outputs": [
    {
     "name": "stdout",
     "output_type": "stream",
     "text": [
      "45 45 45\n"
     ]
    }
   ],
   "source": [
    "print(a,b,c)"
   ]
  },
  {
   "cell_type": "markdown",
   "id": "27587f82",
   "metadata": {},
   "source": [
    "## Block Indentation\n"
   ]
  },
  {
   "cell_type": "code",
   "execution_count": 26,
   "id": "48f45705",
   "metadata": {},
   "outputs": [
    {
     "name": "stdout",
     "output_type": "stream",
     "text": [
      "Goodbye\n"
     ]
    }
   ],
   "source": [
    "a = 10 \n",
    "b = 20\n",
    "if a > b :\n",
    "    print(\"HEllo\")\n",
    "else:\n",
    "    print(\"Goodbye\")"
   ]
  },
  {
   "cell_type": "markdown",
   "id": "205ccc50",
   "metadata": {},
   "source": [
    "## Datatypes"
   ]
  },
  {
   "cell_type": "code",
   "execution_count": 9,
   "id": "70949c1e",
   "metadata": {},
   "outputs": [
    {
     "name": "stdout",
     "output_type": "stream",
     "text": [
      "2\n"
     ]
    },
    {
     "data": {
      "text/plain": [
       "int"
      ]
     },
     "execution_count": 9,
     "metadata": {},
     "output_type": "execute_result"
    }
   ],
   "source": [
    "a = 2\n",
    "print(a)\n",
    "type(a)"
   ]
  },
  {
   "cell_type": "code",
   "execution_count": 10,
   "id": "b9f5bc20",
   "metadata": {},
   "outputs": [
    {
     "name": "stdout",
     "output_type": "stream",
     "text": [
      "2.0\n"
     ]
    },
    {
     "data": {
      "text/plain": [
       "float"
      ]
     },
     "execution_count": 10,
     "metadata": {},
     "output_type": "execute_result"
    }
   ],
   "source": [
    "a = 2.0\n",
    "print(a)\n",
    "type(a)"
   ]
  },
  {
   "cell_type": "code",
   "execution_count": 14,
   "id": "237d8041",
   "metadata": {},
   "outputs": [
    {
     "name": "stdout",
     "output_type": "stream",
     "text": [
      "2j\n"
     ]
    },
    {
     "data": {
      "text/plain": [
       "complex"
      ]
     },
     "execution_count": 14,
     "metadata": {},
     "output_type": "execute_result"
    }
   ],
   "source": [
    "a = 2j\n",
    "print(a)\n",
    "type(a)"
   ]
  },
  {
   "cell_type": "code",
   "execution_count": 15,
   "id": "7a1d258b",
   "metadata": {},
   "outputs": [
    {
     "name": "stdout",
     "output_type": "stream",
     "text": [
      "omkar Pomendkar\n"
     ]
    },
    {
     "data": {
      "text/plain": [
       "str"
      ]
     },
     "execution_count": 15,
     "metadata": {},
     "output_type": "execute_result"
    }
   ],
   "source": [
    "a = \"omkar Pomendkar\"\n",
    "print(a)\n",
    "type(a)"
   ]
  },
  {
   "cell_type": "code",
   "execution_count": 16,
   "id": "d7a9f9d6",
   "metadata": {},
   "outputs": [
    {
     "name": "stdout",
     "output_type": "stream",
     "text": [
      "['omkar', 'Pomendkar']\n"
     ]
    },
    {
     "data": {
      "text/plain": [
       "list"
      ]
     },
     "execution_count": 16,
     "metadata": {},
     "output_type": "execute_result"
    }
   ],
   "source": [
    "a = [\"omkar\" ,\"Pomendkar\"]\n",
    "print(a)\n",
    "type(a)"
   ]
  },
  {
   "cell_type": "code",
   "execution_count": 17,
   "id": "9619b922",
   "metadata": {},
   "outputs": [
    {
     "name": "stdout",
     "output_type": "stream",
     "text": [
      "('omkar', 'Pomendkar')\n"
     ]
    },
    {
     "data": {
      "text/plain": [
       "tuple"
      ]
     },
     "execution_count": 17,
     "metadata": {},
     "output_type": "execute_result"
    }
   ],
   "source": [
    "a = (\"omkar\" ,\"Pomendkar\")\n",
    "print(a)\n",
    "type(a)"
   ]
  },
  {
   "cell_type": "code",
   "execution_count": 18,
   "id": "6ac8ca3c",
   "metadata": {},
   "outputs": [
    {
     "name": "stdout",
     "output_type": "stream",
     "text": [
      "{1: 'One'}\n"
     ]
    },
    {
     "data": {
      "text/plain": [
       "dict"
      ]
     },
     "execution_count": 18,
     "metadata": {},
     "output_type": "execute_result"
    }
   ],
   "source": [
    "a = {1:\"One\"}\n",
    "print(a)\n",
    "type(a)"
   ]
  },
  {
   "cell_type": "code",
   "execution_count": 19,
   "id": "52721663",
   "metadata": {},
   "outputs": [
    {
     "data": {
      "text/plain": [
       "range(0, 9)"
      ]
     },
     "execution_count": 19,
     "metadata": {},
     "output_type": "execute_result"
    }
   ],
   "source": [
    "range(9)"
   ]
  },
  {
   "cell_type": "code",
   "execution_count": 20,
   "id": "3504ac79",
   "metadata": {},
   "outputs": [],
   "source": [
    "x = True"
   ]
  },
  {
   "cell_type": "code",
   "execution_count": 21,
   "id": "ab6581b4",
   "metadata": {},
   "outputs": [
    {
     "data": {
      "text/plain": [
       "bool"
      ]
     },
     "execution_count": 21,
     "metadata": {},
     "output_type": "execute_result"
    }
   ],
   "source": [
    "type(x)"
   ]
  },
  {
   "cell_type": "code",
   "execution_count": 22,
   "id": "18efbbdb",
   "metadata": {},
   "outputs": [],
   "source": [
    "x = bytearray(5)"
   ]
  },
  {
   "cell_type": "code",
   "execution_count": 23,
   "id": "eecf1c3f",
   "metadata": {},
   "outputs": [
    {
     "data": {
      "text/plain": [
       "bytearray"
      ]
     },
     "execution_count": 23,
     "metadata": {},
     "output_type": "execute_result"
    }
   ],
   "source": [
    "type(x)"
   ]
  },
  {
   "cell_type": "code",
   "execution_count": 24,
   "id": "b36f31a8",
   "metadata": {},
   "outputs": [],
   "source": [
    "x = None"
   ]
  },
  {
   "cell_type": "code",
   "execution_count": 25,
   "id": "e11fd466",
   "metadata": {},
   "outputs": [
    {
     "data": {
      "text/plain": [
       "NoneType"
      ]
     },
     "execution_count": 25,
     "metadata": {},
     "output_type": "execute_result"
    }
   ],
   "source": [
    "type(x)"
   ]
  },
  {
   "cell_type": "markdown",
   "id": "f9d2dca2",
   "metadata": {},
   "source": [
    "# Random Number"
   ]
  },
  {
   "cell_type": "code",
   "execution_count": 29,
   "id": "b852597a",
   "metadata": {},
   "outputs": [
    {
     "name": "stdout",
     "output_type": "stream",
     "text": [
      "62\n"
     ]
    }
   ],
   "source": [
    "import random\n",
    "\n",
    "print(random.randrange(1,100))"
   ]
  },
  {
   "cell_type": "code",
   "execution_count": null,
   "id": "db91aab6",
   "metadata": {},
   "outputs": [],
   "source": []
  },
  {
   "cell_type": "code",
   "execution_count": null,
   "id": "1d5c4233",
   "metadata": {},
   "outputs": [],
   "source": []
  }
 ],
 "metadata": {
  "kernelspec": {
   "display_name": "Python 3 (ipykernel)",
   "language": "python",
   "name": "python3"
  },
  "language_info": {
   "codemirror_mode": {
    "name": "ipython",
    "version": 3
   },
   "file_extension": ".py",
   "mimetype": "text/x-python",
   "name": "python",
   "nbconvert_exporter": "python",
   "pygments_lexer": "ipython3",
   "version": "3.9.7"
  }
 },
 "nbformat": 4,
 "nbformat_minor": 5
}
