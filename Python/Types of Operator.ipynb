{
 "cells": [
  {
   "cell_type": "markdown",
   "id": "de29077d",
   "metadata": {},
   "source": [
    "# Operators in python"
   ]
  },
  {
   "cell_type": "code",
   "execution_count": 2,
   "id": "29ecd3b1",
   "metadata": {},
   "outputs": [
    {
     "data": {
      "text/plain": [
       "'\\n1) Arithmetic Operator (+,-,/,*,//,%)\\n2) Comparison Operator(< , > , = , >= , <=)\\n3) Logical Operator (and , or , not)\\n4) Identity Operator()\\n5) Membership Operator \\n6) Bitwise Operator\\n'"
      ]
     },
     "execution_count": 2,
     "metadata": {},
     "output_type": "execute_result"
    }
   ],
   "source": [
    "\"\"\"\n",
    "1) Arithmetic Operator (+,-,/,*,//,%)\n",
    "2) Comparison Operator(< , > , = , >= , <=)\n",
    "3) Logical Operator (and , or , not)\n",
    "4) Identity Operator()\n",
    "5) Membership Operator \n",
    "6) Bitwise Operator\n",
    "\"\"\""
   ]
  },
  {
   "cell_type": "code",
   "execution_count": 3,
   "id": "0ddb95d9",
   "metadata": {},
   "outputs": [],
   "source": [
    "# Arithmetic Operator"
   ]
  },
  {
   "cell_type": "code",
   "execution_count": 4,
   "id": "659ca582",
   "metadata": {},
   "outputs": [
    {
     "name": "stdout",
     "output_type": "stream",
     "text": [
      "Value is  15\n",
      "Value is  -5\n",
      "Value is  0.5\n",
      "Value is  0\n",
      "Value is  50\n",
      "Value is  9765625\n",
      "Value is  15\n",
      "Value is  15\n"
     ]
    }
   ],
   "source": [
    "a = 5 \n",
    "b = 10\n",
    "\n",
    "print(\"Value is \", a+b)\n",
    "print(\"Value is \", a-b)\n",
    "print(\"Value is \", a/b)\n",
    "print(\"Value is \", a//b)\n",
    "print(\"Value is \", a*b)\n",
    "print(\"Value is \", a**b)\n",
    "print(\"Value is \", a+b)\n",
    "print(\"Value is \", a+b)"
   ]
  },
  {
   "cell_type": "code",
   "execution_count": null,
   "id": "bf5b25d9",
   "metadata": {},
   "outputs": [],
   "source": []
  }
 ],
 "metadata": {
  "kernelspec": {
   "display_name": "Python 3 (ipykernel)",
   "language": "python",
   "name": "python3"
  },
  "language_info": {
   "codemirror_mode": {
    "name": "ipython",
    "version": 3
   },
   "file_extension": ".py",
   "mimetype": "text/x-python",
   "name": "python",
   "nbconvert_exporter": "python",
   "pygments_lexer": "ipython3",
   "version": "3.9.7"
  }
 },
 "nbformat": 4,
 "nbformat_minor": 5
}
