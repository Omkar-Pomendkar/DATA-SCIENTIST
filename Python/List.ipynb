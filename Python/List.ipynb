{
 "cells": [
  {
   "cell_type": "markdown",
   "id": "d2629b66",
   "metadata": {},
   "source": [
    "# List"
   ]
  },
  {
   "cell_type": "markdown",
   "id": "808a3bbd",
   "metadata": {},
   "source": [
    "List is a general data structure widely used in Python programs. They are found in other languages,\n",
    "often referred to as dynamic arrays. They are both mutable and a sequence data type that allows them to be indexed\n",
    "and sliced. The list can contain different types of objects, including other list objects.\n"
   ]
  },
  {
   "cell_type": "code",
   "execution_count": 1,
   "id": "51e8c29b",
   "metadata": {},
   "outputs": [],
   "source": [
    "l = [1,2,3,4,5,\"Omkar Pomendkar\", 45.5,'A']"
   ]
  },
  {
   "cell_type": "code",
   "execution_count": 2,
   "id": "fd2ada6c",
   "metadata": {},
   "outputs": [
    {
     "data": {
      "text/plain": [
       "list"
      ]
     },
     "execution_count": 2,
     "metadata": {},
     "output_type": "execute_result"
    }
   ],
   "source": [
    "type(l)"
   ]
  },
  {
   "cell_type": "code",
   "execution_count": 3,
   "id": "8bfca0e5",
   "metadata": {},
   "outputs": [
    {
     "data": {
      "text/plain": [
       "8"
      ]
     },
     "execution_count": 3,
     "metadata": {},
     "output_type": "execute_result"
    }
   ],
   "source": [
    "len(l)"
   ]
  },
  {
   "cell_type": "code",
   "execution_count": 4,
   "id": "1e76a740",
   "metadata": {},
   "outputs": [
    {
     "name": "stdout",
     "output_type": "stream",
     "text": [
      "[1, 2, 3, 4, 5, 'Omkar Pomendkar', 45.5, 'A']\n"
     ]
    }
   ],
   "source": [
    "print(l)"
   ]
  },
  {
   "cell_type": "code",
   "execution_count": 5,
   "id": "442b62e8",
   "metadata": {},
   "outputs": [
    {
     "data": {
      "text/plain": [
       "['A', 45.5, 'Omkar Pomendkar', 5, 4, 3, 2, 1]"
      ]
     },
     "execution_count": 5,
     "metadata": {},
     "output_type": "execute_result"
    }
   ],
   "source": [
    "l[::-1]"
   ]
  },
  {
   "cell_type": "code",
   "execution_count": 6,
   "id": "3e84223d",
   "metadata": {},
   "outputs": [
    {
     "data": {
      "text/plain": [
       "[1, 2, 3, 4, 5]"
      ]
     },
     "execution_count": 6,
     "metadata": {},
     "output_type": "execute_result"
    }
   ],
   "source": [
    "l[0:5]"
   ]
  },
  {
   "cell_type": "code",
   "execution_count": 7,
   "id": "1d22db22",
   "metadata": {},
   "outputs": [
    {
     "data": {
      "text/plain": [
       "[1,\n",
       " 2,\n",
       " 3,\n",
       " 4,\n",
       " 5,\n",
       " 'Omkar Pomendkar',\n",
       " 45.5,\n",
       " 'A',\n",
       " 1,\n",
       " 2,\n",
       " 3,\n",
       " 4,\n",
       " 5,\n",
       " 'Omkar Pomendkar',\n",
       " 45.5,\n",
       " 'A']"
      ]
     },
     "execution_count": 7,
     "metadata": {},
     "output_type": "execute_result"
    }
   ],
   "source": [
    "l+l"
   ]
  },
  {
   "cell_type": "markdown",
   "id": "0e2b2723",
   "metadata": {},
   "source": [
    "# List Methods"
   ]
  },
  {
   "cell_type": "code",
   "execution_count": 8,
   "id": "8190f909",
   "metadata": {},
   "outputs": [],
   "source": [
    "l1 = [23,45,2,6,7,1,1,1,1,1,1,1,1,1,1,89,99,456,101]\n"
   ]
  },
  {
   "cell_type": "code",
   "execution_count": 9,
   "id": "535ae287",
   "metadata": {},
   "outputs": [
    {
     "data": {
      "text/plain": [
       "'Docstring:\\nSort the list in ascending order and return None.\\nFalse : Ascending Order\\nTrue  : Descending Order\\n'"
      ]
     },
     "execution_count": 9,
     "metadata": {},
     "output_type": "execute_result"
    }
   ],
   "source": [
    "l1.sort(key = None,reverse = False)\n",
    "\"\"\"Docstring:\n",
    "Sort the list in ascending order and return None.\n",
    "False : Ascending Order\n",
    "True  : Descending Order\n",
    "\"\"\""
   ]
  },
  {
   "cell_type": "code",
   "execution_count": 10,
   "id": "a2af5f67",
   "metadata": {},
   "outputs": [
    {
     "data": {
      "text/plain": [
       "[1, 1, 1, 1, 1, 1, 1, 1, 1, 1, 2, 6, 7, 23, 45, 89, 99, 101, 456]"
      ]
     },
     "execution_count": 10,
     "metadata": {},
     "output_type": "execute_result"
    }
   ],
   "source": [
    "l1"
   ]
  },
  {
   "cell_type": "code",
   "execution_count": 11,
   "id": "f6e16109",
   "metadata": {},
   "outputs": [
    {
     "data": {
      "text/plain": [
       "' Here we reverse the list Again'"
      ]
     },
     "execution_count": 11,
     "metadata": {},
     "output_type": "execute_result"
    }
   ],
   "source": [
    "l1.reverse()\n",
    "\"\"\" Here we reverse the list Again\"\"\""
   ]
  },
  {
   "cell_type": "code",
   "execution_count": 12,
   "id": "19c292da",
   "metadata": {},
   "outputs": [
    {
     "data": {
      "text/plain": [
       "[456, 101, 99, 89, 45, 23, 7, 6, 2, 1, 1, 1, 1, 1, 1, 1, 1, 1, 1]"
      ]
     },
     "execution_count": 12,
     "metadata": {},
     "output_type": "execute_result"
    }
   ],
   "source": [
    "l1"
   ]
  },
  {
   "cell_type": "code",
   "execution_count": 13,
   "id": "ec684cc6",
   "metadata": {},
   "outputs": [],
   "source": [
    "l1.remove(7)"
   ]
  },
  {
   "cell_type": "code",
   "execution_count": 14,
   "id": "f98005cb",
   "metadata": {},
   "outputs": [
    {
     "data": {
      "text/plain": [
       "[456, 101, 99, 89, 45, 23, 6, 2, 1, 1, 1, 1, 1, 1, 1, 1, 1, 1]"
      ]
     },
     "execution_count": 14,
     "metadata": {},
     "output_type": "execute_result"
    }
   ],
   "source": [
    "l1"
   ]
  },
  {
   "cell_type": "code",
   "execution_count": 15,
   "id": "a9ab8ecb",
   "metadata": {},
   "outputs": [
    {
     "data": {
      "text/plain": [
       "1"
      ]
     },
     "execution_count": 15,
     "metadata": {},
     "output_type": "execute_result"
    }
   ],
   "source": [
    "l1.pop()"
   ]
  },
  {
   "cell_type": "code",
   "execution_count": 16,
   "id": "5b3cabd7",
   "metadata": {},
   "outputs": [
    {
     "data": {
      "text/plain": [
       "99"
      ]
     },
     "execution_count": 16,
     "metadata": {},
     "output_type": "execute_result"
    }
   ],
   "source": [
    "l1.pop(2)\n",
    "# Enter the Index to Pop the Element"
   ]
  },
  {
   "cell_type": "code",
   "execution_count": 17,
   "id": "525dc5e2",
   "metadata": {},
   "outputs": [
    {
     "data": {
      "text/plain": [
       "2"
      ]
     },
     "execution_count": 17,
     "metadata": {},
     "output_type": "execute_result"
    }
   ],
   "source": [
    "l1.index(89)"
   ]
  },
  {
   "cell_type": "code",
   "execution_count": 19,
   "id": "4cfd7499",
   "metadata": {},
   "outputs": [
    {
     "data": {
      "text/plain": [
       "9"
      ]
     },
     "execution_count": 19,
     "metadata": {},
     "output_type": "execute_result"
    }
   ],
   "source": [
    "l1.count(1)"
   ]
  },
  {
   "cell_type": "code",
   "execution_count": 20,
   "id": "b56c2e4e",
   "metadata": {},
   "outputs": [],
   "source": [
    "l1.append(23)"
   ]
  },
  {
   "cell_type": "code",
   "execution_count": 21,
   "id": "cc4d6911",
   "metadata": {},
   "outputs": [
    {
     "data": {
      "text/plain": [
       "[456, 101, 89, 45, 23, 6, 2, 1, 1, 1, 1, 1, 1, 1, 1, 1, 23]"
      ]
     },
     "execution_count": 21,
     "metadata": {},
     "output_type": "execute_result"
    }
   ],
   "source": [
    "l1"
   ]
  },
  {
   "cell_type": "code",
   "execution_count": 24,
   "id": "436a80ca",
   "metadata": {},
   "outputs": [],
   "source": [
    "l1.append([23,34,55,67])\n",
    "#Append add the List as it is declare"
   ]
  },
  {
   "cell_type": "code",
   "execution_count": 25,
   "id": "c6494201",
   "metadata": {},
   "outputs": [
    {
     "data": {
      "text/plain": [
       "[456, 101, 89, 45, 23, 6, 2, 1, 1, 1, 1, 1, 1, 1, 1, 1, 23, [23, 34, 55, 67]]"
      ]
     },
     "execution_count": 25,
     "metadata": {},
     "output_type": "execute_result"
    }
   ],
   "source": [
    "l1"
   ]
  },
  {
   "cell_type": "code",
   "execution_count": 30,
   "id": "a6193828",
   "metadata": {},
   "outputs": [],
   "source": [
    "l2 =[]"
   ]
  },
  {
   "cell_type": "code",
   "execution_count": 31,
   "id": "1a21361e",
   "metadata": {},
   "outputs": [
    {
     "data": {
      "text/plain": [
       "list"
      ]
     },
     "execution_count": 31,
     "metadata": {},
     "output_type": "execute_result"
    }
   ],
   "source": [
    "type(l2)"
   ]
  },
  {
   "cell_type": "code",
   "execution_count": 32,
   "id": "74a2a1e3",
   "metadata": {},
   "outputs": [
    {
     "data": {
      "text/plain": [
       "[456, 101, 89, 45, 23, 6, 2, 1, 1, 1, 1, 1, 1, 1, 1, 1, 23, [23, 34, 55, 67]]"
      ]
     },
     "execution_count": 32,
     "metadata": {},
     "output_type": "execute_result"
    }
   ],
   "source": [
    "l1.copy()"
   ]
  },
  {
   "cell_type": "code",
   "execution_count": 38,
   "id": "cfb49203",
   "metadata": {},
   "outputs": [],
   "source": [
    "l1.extend([23,34,55,67])\n",
    "# Extend Append list by Unwraping it Self"
   ]
  },
  {
   "cell_type": "code",
   "execution_count": 39,
   "id": "a9eb6fd4",
   "metadata": {},
   "outputs": [
    {
     "data": {
      "text/plain": [
       "[456,\n",
       " 101,\n",
       " 89,\n",
       " 45,\n",
       " 23,\n",
       " 6,\n",
       " 2,\n",
       " 1,\n",
       " 1,\n",
       " 1,\n",
       " 1,\n",
       " 1,\n",
       " 1,\n",
       " 1,\n",
       " 1,\n",
       " 1,\n",
       " 23,\n",
       " [23, 34, 55, 67],\n",
       " 23,\n",
       " 34,\n",
       " 55,\n",
       " 67,\n",
       " 23,\n",
       " 34,\n",
       " 55,\n",
       " 67]"
      ]
     },
     "execution_count": 39,
     "metadata": {},
     "output_type": "execute_result"
    }
   ],
   "source": [
    "l1"
   ]
  },
  {
   "cell_type": "code",
   "execution_count": 40,
   "id": "e37eebde",
   "metadata": {},
   "outputs": [],
   "source": [
    "b = range(5)"
   ]
  },
  {
   "cell_type": "code",
   "execution_count": 41,
   "id": "ca3c29e9",
   "metadata": {},
   "outputs": [
    {
     "data": {
      "text/plain": [
       "range(0, 5)"
      ]
     },
     "execution_count": 41,
     "metadata": {},
     "output_type": "execute_result"
    }
   ],
   "source": [
    "b"
   ]
  },
  {
   "cell_type": "code",
   "execution_count": 42,
   "id": "eac66d84",
   "metadata": {},
   "outputs": [],
   "source": [
    "o = \"omkar Pomendkar\""
   ]
  },
  {
   "cell_type": "code",
   "execution_count": 43,
   "id": "8233e65e",
   "metadata": {},
   "outputs": [],
   "source": [
    "omkar = slice(0,5)"
   ]
  },
  {
   "cell_type": "code",
   "execution_count": 45,
   "id": "25ed0242",
   "metadata": {},
   "outputs": [
    {
     "name": "stdout",
     "output_type": "stream",
     "text": [
      "omkar\n"
     ]
    }
   ],
   "source": [
    "print(o[omkar])"
   ]
  },
  {
   "cell_type": "code",
   "execution_count": null,
   "id": "be089765",
   "metadata": {},
   "outputs": [],
   "source": []
  }
 ],
 "metadata": {
  "kernelspec": {
   "display_name": "Python 3 (ipykernel)",
   "language": "python",
   "name": "python3"
  },
  "language_info": {
   "codemirror_mode": {
    "name": "ipython",
    "version": 3
   },
   "file_extension": ".py",
   "mimetype": "text/x-python",
   "name": "python",
   "nbconvert_exporter": "python",
   "pygments_lexer": "ipython3",
   "version": "3.9.7"
  }
 },
 "nbformat": 4,
 "nbformat_minor": 5
}
