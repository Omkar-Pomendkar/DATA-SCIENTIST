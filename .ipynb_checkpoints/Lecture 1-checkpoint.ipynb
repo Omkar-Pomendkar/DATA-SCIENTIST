{
 "cells": [
  {
   "cell_type": "code",
   "execution_count": 1,
   "id": "6b6f36fe",
   "metadata": {},
   "outputs": [],
   "source": [
    "a = \"Omkar Pomendkar\""
   ]
  },
  {
   "cell_type": "code",
   "execution_count": 2,
   "id": "3c2fa9c3",
   "metadata": {},
   "outputs": [
    {
     "name": "stdout",
     "output_type": "stream",
     "text": [
      "Omkar Pomendkar\n"
     ]
    }
   ],
   "source": [
    "print(a)"
   ]
  },
  {
   "cell_type": "code",
   "execution_count": 3,
   "id": "3536ab28",
   "metadata": {},
   "outputs": [
    {
     "data": {
      "text/plain": [
       "str"
      ]
     },
     "execution_count": 3,
     "metadata": {},
     "output_type": "execute_result"
    }
   ],
   "source": [
    "type(a)"
   ]
  },
  {
   "cell_type": "code",
   "execution_count": 4,
   "id": "9563e227",
   "metadata": {},
   "outputs": [
    {
     "data": {
      "text/plain": [
       "15"
      ]
     },
     "execution_count": 4,
     "metadata": {},
     "output_type": "execute_result"
    }
   ],
   "source": [
    "len(a)"
   ]
  },
  {
   "cell_type": "code",
   "execution_count": 6,
   "id": "a5c524bc",
   "metadata": {},
   "outputs": [
    {
     "data": {
      "text/plain": [
       "'O'"
      ]
     },
     "execution_count": 6,
     "metadata": {},
     "output_type": "execute_result"
    }
   ],
   "source": [
    "a[0]"
   ]
  },
  {
   "cell_type": "code",
   "execution_count": 7,
   "id": "53c194df",
   "metadata": {},
   "outputs": [
    {
     "data": {
      "text/plain": [
       "'Omkar Pome'"
      ]
     },
     "execution_count": 7,
     "metadata": {},
     "output_type": "execute_result"
    }
   ],
   "source": [
    "a[0:10]"
   ]
  },
  {
   "cell_type": "code",
   "execution_count": 8,
   "id": "feab70d8",
   "metadata": {},
   "outputs": [
    {
     "data": {
      "text/plain": [
       "'r'"
      ]
     },
     "execution_count": 8,
     "metadata": {},
     "output_type": "execute_result"
    }
   ],
   "source": [
    "a[-1]"
   ]
  },
  {
   "cell_type": "code",
   "execution_count": 9,
   "id": "651fed6d",
   "metadata": {},
   "outputs": [
    {
     "data": {
      "text/plain": [
       "'r'"
      ]
     },
     "execution_count": 9,
     "metadata": {},
     "output_type": "execute_result"
    }
   ],
   "source": [
    "a[-1:]"
   ]
  },
  {
   "cell_type": "code",
   "execution_count": 10,
   "id": "6fd080ab",
   "metadata": {},
   "outputs": [
    {
     "data": {
      "text/plain": [
       "'rakdnemoP rakmO'"
      ]
     },
     "execution_count": 10,
     "metadata": {},
     "output_type": "execute_result"
    }
   ],
   "source": [
    "a[::-1]"
   ]
  },
  {
   "cell_type": "code",
   "execution_count": 11,
   "id": "64349841",
   "metadata": {},
   "outputs": [],
   "source": [
    "s = \"Omkar POmendkar\""
   ]
  },
  {
   "cell_type": "code",
   "execution_count": 12,
   "id": "44ac4ea2",
   "metadata": {},
   "outputs": [],
   "source": [
    "g = 'Sanjay Pomendkar'"
   ]
  },
  {
   "cell_type": "code",
   "execution_count": 13,
   "id": "96953b20",
   "metadata": {},
   "outputs": [
    {
     "name": "stdout",
     "output_type": "stream",
     "text": [
      "Sanjay Pomendkar\n"
     ]
    }
   ],
   "source": [
    "print(g)"
   ]
  },
  {
   "cell_type": "code",
   "execution_count": 14,
   "id": "5d366f4e",
   "metadata": {},
   "outputs": [
    {
     "name": "stdout",
     "output_type": "stream",
     "text": [
      "Omkar POmendkar\n"
     ]
    }
   ],
   "source": [
    "print(s)"
   ]
  },
  {
   "cell_type": "code",
   "execution_count": 15,
   "id": "9758b390",
   "metadata": {},
   "outputs": [],
   "source": [
    "a = \"\"\"omkar is a Good Boy \"Software Devloper\" \"\"\""
   ]
  },
  {
   "cell_type": "code",
   "execution_count": 16,
   "id": "0f1a5f1f",
   "metadata": {},
   "outputs": [
    {
     "name": "stdout",
     "output_type": "stream",
     "text": [
      "omkar is a Good Boy \"Software Devloper\" \n"
     ]
    }
   ],
   "source": [
    "print(a)"
   ]
  },
  {
   "cell_type": "code",
   "execution_count": 17,
   "id": "65c70daa",
   "metadata": {},
   "outputs": [
    {
     "data": {
      "text/plain": [
       "str"
      ]
     },
     "execution_count": 17,
     "metadata": {},
     "output_type": "execute_result"
    }
   ],
   "source": [
    "type(a)"
   ]
  },
  {
   "cell_type": "code",
   "execution_count": 18,
   "id": "bfd50423",
   "metadata": {},
   "outputs": [
    {
     "data": {
      "text/plain": [
       "40"
      ]
     },
     "execution_count": 18,
     "metadata": {},
     "output_type": "execute_result"
    }
   ],
   "source": [
    "len(a)"
   ]
  },
  {
   "cell_type": "code",
   "execution_count": 19,
   "id": "745f3559",
   "metadata": {},
   "outputs": [
    {
     "data": {
      "text/plain": [
       "'omkar is a Good Boy \"Software Devloper\" '"
      ]
     },
     "execution_count": 19,
     "metadata": {},
     "output_type": "execute_result"
    }
   ],
   "source": [
    "a[:]"
   ]
  },
  {
   "cell_type": "code",
   "execution_count": 20,
   "id": "6a33c61e",
   "metadata": {},
   "outputs": [
    {
     "data": {
      "text/plain": [
       "'omkar is a Good Boy \"Software Devloper\"'"
      ]
     },
     "execution_count": 20,
     "metadata": {},
     "output_type": "execute_result"
    }
   ],
   "source": [
    "a[:-1]"
   ]
  },
  {
   "cell_type": "code",
   "execution_count": 21,
   "id": "c58b8ecd",
   "metadata": {},
   "outputs": [
    {
     "data": {
      "text/plain": [
       "'mkar '"
      ]
     },
     "execution_count": 21,
     "metadata": {},
     "output_type": "execute_result"
    }
   ],
   "source": [
    "a[1:6]"
   ]
  },
  {
   "cell_type": "code",
   "execution_count": 22,
   "id": "2d87ea98",
   "metadata": {},
   "outputs": [
    {
     "data": {
      "text/plain": [
       "'kri  odBy\"otaeDvoe\"'"
      ]
     },
     "execution_count": 22,
     "metadata": {},
     "output_type": "execute_result"
    }
   ],
   "source": [
    " a[2:45:2]"
   ]
  },
  {
   "cell_type": "code",
   "execution_count": 24,
   "id": "22a37a58",
   "metadata": {},
   "outputs": [
    {
     "data": {
      "text/plain": [
       "''"
      ]
     },
     "execution_count": 24,
     "metadata": {},
     "output_type": "execute_result"
    }
   ],
   "source": [
    " a[0:8:-1]"
   ]
  },
  {
   "cell_type": "code",
   "execution_count": 25,
   "id": "108e7ec7",
   "metadata": {},
   "outputs": [
    {
     "data": {
      "text/plain": [
       "' si rakm'"
      ]
     },
     "execution_count": 25,
     "metadata": {},
     "output_type": "execute_result"
    }
   ],
   "source": [
    "a[8:0:-1]"
   ]
  },
  {
   "cell_type": "code",
   "execution_count": 26,
   "id": "b74b8283",
   "metadata": {},
   "outputs": [
    {
     "data": {
      "text/plain": [
       "'omkar is a Good Boy \"Software Devlope'"
      ]
     },
     "execution_count": 26,
     "metadata": {},
     "output_type": "execute_result"
    }
   ],
   "source": [
    " a[:-3]"
   ]
  },
  {
   "cell_type": "code",
   "execution_count": 27,
   "id": "da4b111b",
   "metadata": {},
   "outputs": [
    {
     "data": {
      "text/plain": [
       "'omkar is a Good Boy \"Software Devloper\"'"
      ]
     },
     "execution_count": 27,
     "metadata": {},
     "output_type": "execute_result"
    }
   ],
   "source": [
    "a[:-1]"
   ]
  },
  {
   "cell_type": "code",
   "execution_count": 28,
   "id": "a1ead111",
   "metadata": {},
   "outputs": [
    {
     "data": {
      "text/plain": [
       "' \"repolveD erawtfoS\" yoB dooG a si rakmo'"
      ]
     },
     "execution_count": 28,
     "metadata": {},
     "output_type": "execute_result"
    }
   ],
   "source": [
    "a[::-1]"
   ]
  },
  {
   "cell_type": "code",
   "execution_count": 29,
   "id": "3e3cd09a",
   "metadata": {},
   "outputs": [
    {
     "data": {
      "text/plain": [
       "'o'"
      ]
     },
     "execution_count": 29,
     "metadata": {},
     "output_type": "execute_result"
    }
   ],
   "source": [
    "a[:1]"
   ]
  },
  {
   "cell_type": "code",
   "execution_count": 35,
   "id": "102817a1",
   "metadata": {},
   "outputs": [
    {
     "data": {
      "text/plain": [
       "' \"repolveD erawtfoS\" yoB dooG a si rakmo'"
      ]
     },
     "execution_count": 35,
     "metadata": {},
     "output_type": "execute_result"
    }
   ],
   "source": [
    "a[::-1]"
   ]
  },
  {
   "cell_type": "code",
   "execution_count": 36,
   "id": "fe16bd39",
   "metadata": {},
   "outputs": [],
   "source": [
    "l = \"Logitech\""
   ]
  },
  {
   "cell_type": "code",
   "execution_count": 37,
   "id": "a1c5e57b",
   "metadata": {},
   "outputs": [
    {
     "data": {
      "text/plain": [
       "''"
      ]
     },
     "execution_count": 37,
     "metadata": {},
     "output_type": "execute_result"
    }
   ],
   "source": [
    "l[0:0:-1]"
   ]
  },
  {
   "cell_type": "code",
   "execution_count": 38,
   "id": "f37453bc",
   "metadata": {},
   "outputs": [
    {
     "data": {
      "text/plain": [
       "''"
      ]
     },
     "execution_count": 38,
     "metadata": {},
     "output_type": "execute_result"
    }
   ],
   "source": [
    "l[-2:-7:1]"
   ]
  },
  {
   "cell_type": "code",
   "execution_count": 39,
   "id": "4abbe8f2",
   "metadata": {},
   "outputs": [
    {
     "data": {
      "text/plain": [
       "'ogite'"
      ]
     },
     "execution_count": 39,
     "metadata": {},
     "output_type": "execute_result"
    }
   ],
   "source": [
    "l[-7:-2:1]"
   ]
  },
  {
   "cell_type": "markdown",
   "id": "05f3d89f",
   "metadata": {},
   "source": [
    "# Typecasting"
   ]
  },
  {
   "cell_type": "code",
   "execution_count": 42,
   "id": "c02cc1ea",
   "metadata": {},
   "outputs": [
    {
     "data": {
      "text/plain": [
       "'Logitechomkar'"
      ]
     },
     "execution_count": 42,
     "metadata": {},
     "output_type": "execute_result"
    }
   ],
   "source": [
    "l+ \"omkar\""
   ]
  },
  {
   "cell_type": "code",
   "execution_count": 43,
   "id": "ad2c387f",
   "metadata": {},
   "outputs": [
    {
     "data": {
      "text/plain": [
       "'Logitech8798798797889789790'"
      ]
     },
     "execution_count": 43,
     "metadata": {},
     "output_type": "execute_result"
    }
   ],
   "source": [
    "l+ str(8798798797889789790)"
   ]
  },
  {
   "cell_type": "code",
   "execution_count": 44,
   "id": "02bfda80",
   "metadata": {},
   "outputs": [
    {
     "data": {
      "text/plain": [
       "8"
      ]
     },
     "execution_count": 44,
     "metadata": {},
     "output_type": "execute_result"
    }
   ],
   "source": [
    "len(l)"
   ]
  },
  {
   "cell_type": "code",
   "execution_count": 45,
   "id": "9f9ba9b2",
   "metadata": {},
   "outputs": [
    {
     "data": {
      "text/plain": [
       "8"
      ]
     },
     "execution_count": 45,
     "metadata": {},
     "output_type": "execute_result"
    }
   ],
   "source": [
    "len(l)"
   ]
  },
  {
   "cell_type": "code",
   "execution_count": 48,
   "id": "9d6a9106",
   "metadata": {},
   "outputs": [
    {
     "data": {
      "text/plain": [
       "'LogitechLogitech'"
      ]
     },
     "execution_count": 48,
     "metadata": {},
     "output_type": "execute_result"
    }
   ],
   "source": [
    "l*2"
   ]
  },
  {
   "cell_type": "markdown",
   "id": "7be756ee",
   "metadata": {},
   "source": [
    "# String Functions"
   ]
  },
  {
   "cell_type": "code",
   "execution_count": 60,
   "id": "bdd30166",
   "metadata": {},
   "outputs": [],
   "source": [
    "o = \"omkar Pomendkar\""
   ]
  },
  {
   "cell_type": "code",
   "execution_count": 61,
   "id": "fd083112",
   "metadata": {},
   "outputs": [
    {
     "data": {
      "text/plain": [
       "2"
      ]
     },
     "execution_count": 61,
     "metadata": {},
     "output_type": "execute_result"
    }
   ],
   "source": [
    "o.count('om')"
   ]
  },
  {
   "cell_type": "code",
   "execution_count": 66,
   "id": "9e18b615",
   "metadata": {},
   "outputs": [
    {
     "data": {
      "text/plain": [
       "['OMKAR POMENDKAR']"
      ]
     },
     "execution_count": 66,
     "metadata": {},
     "output_type": "execute_result"
    }
   ],
   "source": [
    "o.split('m')"
   ]
  },
  {
   "cell_type": "code",
   "execution_count": 67,
   "id": "15e46842",
   "metadata": {},
   "outputs": [],
   "source": [
    " o = o.upper()"
   ]
  },
  {
   "cell_type": "code",
   "execution_count": 68,
   "id": "c0fcd1cf",
   "metadata": {},
   "outputs": [
    {
     "name": "stdout",
     "output_type": "stream",
     "text": [
      "OMKAR POMENDKAR\n"
     ]
    }
   ],
   "source": [
    "print(o)"
   ]
  },
  {
   "cell_type": "code",
   "execution_count": 69,
   "id": "b356161a",
   "metadata": {},
   "outputs": [
    {
     "data": {
      "text/plain": [
       "'Omkar Pomendkar'"
      ]
     },
     "execution_count": 69,
     "metadata": {},
     "output_type": "execute_result"
    }
   ],
   "source": [
    "o.title()"
   ]
  },
  {
   "cell_type": "code",
   "execution_count": 70,
   "id": "6ff2a9b5",
   "metadata": {},
   "outputs": [
    {
     "data": {
      "text/plain": [
       "'Omkar pomendkar'"
      ]
     },
     "execution_count": 70,
     "metadata": {},
     "output_type": "execute_result"
    }
   ],
   "source": [
    "o.capitalize()"
   ]
  },
  {
   "cell_type": "code",
   "execution_count": 72,
   "id": "ae492527",
   "metadata": {},
   "outputs": [
    {
     "data": {
      "text/plain": [
       "'RAKDNEMOP RAKMO'"
      ]
     },
     "execution_count": 72,
     "metadata": {},
     "output_type": "execute_result"
    }
   ],
   "source": [
    "''.join(reversed(o))"
   ]
  },
  {
   "cell_type": "code",
   "execution_count": 73,
   "id": "121bb995",
   "metadata": {},
   "outputs": [],
   "source": [
    "s = \"         omkrar  popommm         \""
   ]
  },
  {
   "cell_type": "code",
   "execution_count": 74,
   "id": "48bf3bbc",
   "metadata": {},
   "outputs": [
    {
     "data": {
      "text/plain": [
       "'omkrar  popommm'"
      ]
     },
     "execution_count": 74,
     "metadata": {},
     "output_type": "execute_result"
    }
   ],
   "source": [
    "s.strip()"
   ]
  },
  {
   "cell_type": "code",
   "execution_count": 75,
   "id": "bb179d08",
   "metadata": {},
   "outputs": [
    {
     "data": {
      "text/plain": [
       "'omkrar  popommm         '"
      ]
     },
     "execution_count": 75,
     "metadata": {},
     "output_type": "execute_result"
    }
   ],
   "source": [
    "s.lstrip()"
   ]
  },
  {
   "cell_type": "code",
   "execution_count": 77,
   "id": "956a48b3",
   "metadata": {},
   "outputs": [
    {
     "data": {
      "text/plain": [
       "'         omkrar  popommm'"
      ]
     },
     "execution_count": 77,
     "metadata": {},
     "output_type": "execute_result"
    }
   ],
   "source": [
    "s.rstrip()"
   ]
  },
  {
   "cell_type": "code",
   "execution_count": 81,
   "id": "2dbb7c5f",
   "metadata": {},
   "outputs": [
    {
     "data": {
      "text/plain": [
       "'??????Logitech??????'"
      ]
     },
     "execution_count": 81,
     "metadata": {},
     "output_type": "execute_result"
    }
   ],
   "source": [
    "l.center(20,\"?\")"
   ]
  },
  {
   "cell_type": "code",
   "execution_count": 82,
   "id": "2bae40b9",
   "metadata": {},
   "outputs": [
    {
     "data": {
      "text/plain": [
       "False"
      ]
     },
     "execution_count": 82,
     "metadata": {},
     "output_type": "execute_result"
    }
   ],
   "source": [
    "l.isupper()"
   ]
  },
  {
   "cell_type": "code",
   "execution_count": 85,
   "id": "23420238",
   "metadata": {},
   "outputs": [],
   "source": [
    "a = \"Omkar\""
   ]
  },
  {
   "cell_type": "code",
   "execution_count": 88,
   "id": "9b6fa382",
   "metadata": {},
   "outputs": [
    {
     "data": {
      "text/plain": [
       "'rakmO'"
      ]
     },
     "execution_count": 88,
     "metadata": {},
     "output_type": "execute_result"
    }
   ],
   "source": [
    "''.join(reversed(a))"
   ]
  },
  {
   "cell_type": "code",
   "execution_count": 89,
   "id": "3737311d",
   "metadata": {},
   "outputs": [],
   "source": [
    "d = \"ineuron\""
   ]
  },
  {
   "cell_type": "code",
   "execution_count": 91,
   "id": "15b50cd1",
   "metadata": {},
   "outputs": [],
   "source": [
    "s = \"this is My First Python Programming class and i am Learning python Strings and its Functions\""
   ]
  },
  {
   "cell_type": "code",
   "execution_count": 92,
   "id": "a1028d92",
   "metadata": {},
   "outputs": [
    {
     "name": "stdout",
     "output_type": "stream",
     "text": [
      "this is My First Python Programming class and i am Learning python Strings and its Functions\n"
     ]
    }
   ],
   "source": [
    "print(s)"
   ]
  },
  {
   "cell_type": "code",
   "execution_count": 93,
   "id": "e40fc8eb",
   "metadata": {},
   "outputs": [
    {
     "data": {
      "text/plain": [
       "str"
      ]
     },
     "execution_count": 93,
     "metadata": {},
     "output_type": "execute_result"
    }
   ],
   "source": [
    "type(s)"
   ]
  },
  {
   "cell_type": "code",
   "execution_count": 94,
   "id": "9c89e8cd",
   "metadata": {},
   "outputs": [
    {
     "data": {
      "text/plain": [
       "'h   r tnrrmglsnimengyoSisni nis'"
      ]
     },
     "execution_count": 94,
     "metadata": {},
     "output_type": "execute_result"
    }
   ],
   "source": [
    "s[1:300:3]"
   ]
  },
  {
   "cell_type": "code",
   "execution_count": 95,
   "id": "ce8d1ac7",
   "metadata": {},
   "outputs": [
    {
     "data": {
      "text/plain": [
       "'snoitcnuF sti dna sgnirtS nohtyp gninraeL ma i dna ssalc gnimmargorP nohtyP tsriF yM si siht'"
      ]
     },
     "execution_count": 95,
     "metadata": {},
     "output_type": "execute_result"
    }
   ],
   "source": [
    "s[::-1]"
   ]
  },
  {
   "cell_type": "code",
   "execution_count": 96,
   "id": "1211eecd",
   "metadata": {},
   "outputs": [
    {
     "data": {
      "text/plain": [
       "'THIS IS MY FIRST PYTHON PROGRAMMING CLASS AND I AM LEARNING PYTHON STRINGS AND ITS FUNCTIONS'"
      ]
     },
     "execution_count": 96,
     "metadata": {},
     "output_type": "execute_result"
    }
   ],
   "source": [
    "s.upper()"
   ]
  },
  {
   "cell_type": "code",
   "execution_count": 98,
   "id": "d120d683",
   "metadata": {},
   "outputs": [
    {
     "data": {
      "text/plain": [
       "['this',\n",
       " 'is',\n",
       " 'My',\n",
       " 'First',\n",
       " 'Python',\n",
       " 'Programming',\n",
       " 'class',\n",
       " 'and',\n",
       " 'i',\n",
       " 'am',\n",
       " 'Learning',\n",
       " 'python',\n",
       " 'Strings',\n",
       " 'and',\n",
       " 'its',\n",
       " 'Functions']"
      ]
     },
     "execution_count": 98,
     "metadata": {},
     "output_type": "execute_result"
    }
   ],
   "source": [
    "s.split(\" \")"
   ]
  },
  {
   "cell_type": "code",
   "execution_count": 100,
   "id": "ccff4746",
   "metadata": {},
   "outputs": [],
   "source": [
    "s= s.lower()"
   ]
  },
  {
   "cell_type": "code",
   "execution_count": null,
   "id": "3a221bda",
   "metadata": {},
   "outputs": [],
   "source": []
  }
 ],
 "metadata": {
  "kernelspec": {
   "display_name": "Python 3 (ipykernel)",
   "language": "python",
   "name": "python3"
  },
  "language_info": {
   "codemirror_mode": {
    "name": "ipython",
    "version": 3
   },
   "file_extension": ".py",
   "mimetype": "text/x-python",
   "name": "python",
   "nbconvert_exporter": "python",
   "pygments_lexer": "ipython3",
   "version": "3.9.7"
  }
 },
 "nbformat": 4,
 "nbformat_minor": 5
}
