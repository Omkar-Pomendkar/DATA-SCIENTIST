{
 "cells": [
  {
   "cell_type": "markdown",
   "id": "d77f052c",
   "metadata": {},
   "source": [
    "## Learning Python Language\n"
   ]
  },
  {
   "cell_type": "code",
   "execution_count": 1,
   "id": "f05ba955",
   "metadata": {},
   "outputs": [
    {
     "name": "stdout",
     "output_type": "stream",
     "text": [
      "Omkar Pomendkar\n"
     ]
    }
   ],
   "source": [
    "print(\"Omkar Pomendkar\")"
   ]
  },
  {
   "cell_type": "code",
   "execution_count": 2,
   "id": "7db8cc41",
   "metadata": {},
   "outputs": [
    {
     "name": "stdout",
     "output_type": "stream",
     "text": [
      "Hello World\n"
     ]
    }
   ],
   "source": [
    "print(\"Hello World\")"
   ]
  },
  {
   "cell_type": "markdown",
   "id": "cff75106",
   "metadata": {},
   "source": [
    "# Variables\n"
   ]
  },
  {
   "cell_type": "raw",
   "id": "05aca860",
   "metadata": {},
   "source": [
    "Python uses = to assign values to variables. There's no need to declare a variable in advance (or to assign a data\n",
    "type to it), assigning a value to a variable itself declares and initializes the variable with that value. There's no way to\n",
    "declare a variable without assigning it an initial value."
   ]
  },
  {
   "cell_type": "code",
   "execution_count": 7,
   "id": "6068c640",
   "metadata": {},
   "outputs": [],
   "source": [
    "\"\"\"Integer\"\"\"\n",
    "a = 10"
   ]
  },
  {
   "cell_type": "code",
   "execution_count": 8,
   "id": "c3e352d9",
   "metadata": {},
   "outputs": [
    {
     "name": "stdout",
     "output_type": "stream",
     "text": [
      "10\n"
     ]
    }
   ],
   "source": [
    "print(a)"
   ]
  },
  {
   "cell_type": "code",
   "execution_count": 9,
   "id": "bc903fd2",
   "metadata": {},
   "outputs": [
    {
     "data": {
      "text/plain": [
       "int"
      ]
     },
     "execution_count": 9,
     "metadata": {},
     "output_type": "execute_result"
    }
   ],
   "source": [
    "type(a)"
   ]
  },
  {
   "cell_type": "code",
   "execution_count": 10,
   "id": "e4396f23",
   "metadata": {},
   "outputs": [
    {
     "name": "stdout",
     "output_type": "stream",
     "text": [
      "34.5\n"
     ]
    }
   ],
   "source": [
    "\"\"\"Float\"\"\"\n",
    "b = 34.5\n",
    "print(b)"
   ]
  },
  {
   "cell_type": "code",
   "execution_count": 11,
   "id": "da9becf4",
   "metadata": {},
   "outputs": [
    {
     "name": "stdout",
     "output_type": "stream",
     "text": [
      "Omkar Pomendkar\n"
     ]
    }
   ],
   "source": [
    "\"\"\"String\"\"\"\n",
    "c = \"Omkar Pomendkar\"\n",
    "print(c)"
   ]
  },
  {
   "cell_type": "code",
   "execution_count": 12,
   "id": "53e50336",
   "metadata": {},
   "outputs": [],
   "source": [
    "\"\"\"Boolean\"\"\"\n",
    "d = True"
   ]
  },
  {
   "cell_type": "code",
   "execution_count": 13,
   "id": "7a6a0f47",
   "metadata": {},
   "outputs": [
    {
     "name": "stdout",
     "output_type": "stream",
     "text": [
      "True\n"
     ]
    }
   ],
   "source": [
    "print(d)"
   ]
  },
  {
   "cell_type": "code",
   "execution_count": 14,
   "id": "274052ac",
   "metadata": {},
   "outputs": [
    {
     "name": "stdout",
     "output_type": "stream",
     "text": [
      "None\n"
     ]
    }
   ],
   "source": [
    "x = None \n",
    "print(x)"
   ]
  },
  {
   "cell_type": "raw",
   "id": "349858a1",
   "metadata": {},
   "source": [
    "1. Variables names must start with a letter or an underscore.\n",
    " x = True # valid\n",
    " _y = True # valid\n",
    " 9x = False # starts with numeral\n",
    "=> SyntaxError: invalid syntax \n",
    " $y = False # starts with symbol\n",
    "=> SyntaxError: invalid syntax\n",
    "2. The remainder of your variable name may consist of letters, numbers and underscores.\n",
    "has_0_in_it = \"Still Valid\"\n",
    "3. Names are case sensitive.\n",
    "x = 9 \n",
    "y = X*5 \n",
    "=>NameError: name 'X' is not define"
   ]
  },
  {
   "cell_type": "markdown",
   "id": "720a82f8",
   "metadata": {},
   "source": [
    " ## Multiple Assignment"
   ]
  },
  {
   "cell_type": "code",
   "execution_count": 17,
   "id": "76bb6746",
   "metadata": {},
   "outputs": [],
   "source": [
    "e,f,g = 90 ,10,30"
   ]
  },
  {
   "cell_type": "code",
   "execution_count": 18,
   "id": "c0c10b39",
   "metadata": {},
   "outputs": [
    {
     "name": "stdout",
     "output_type": "stream",
     "text": [
      "90\n"
     ]
    }
   ],
   "source": [
    "print(e)"
   ]
  },
  {
   "cell_type": "code",
   "execution_count": 20,
   "id": "0b6dab99",
   "metadata": {},
   "outputs": [],
   "source": [
    " h,j,k, = 5,6,_"
   ]
  },
  {
   "cell_type": "code",
   "execution_count": 21,
   "id": "9354de4c",
   "metadata": {},
   "outputs": [
    {
     "name": "stdout",
     "output_type": "stream",
     "text": [
      "<class 'int'>\n"
     ]
    }
   ],
   "source": [
    "print(k)"
   ]
  },
  {
   "cell_type": "code",
   "execution_count": 22,
   "id": "f5abada1",
   "metadata": {},
   "outputs": [],
   "source": [
    "t,y,_ = 10,20,40"
   ]
  },
  {
   "cell_type": "code",
   "execution_count": 23,
   "id": "84797f1d",
   "metadata": {},
   "outputs": [
    {
     "name": "stdout",
     "output_type": "stream",
     "text": [
      "40\n"
     ]
    }
   ],
   "source": [
    "print(_)"
   ]
  },
  {
   "cell_type": "code",
   "execution_count": 24,
   "id": "803c263e",
   "metadata": {},
   "outputs": [],
   "source": [
    "a=b=c = 45"
   ]
  },
  {
   "cell_type": "code",
   "execution_count": 25,
   "id": "f7341037",
   "metadata": {},
   "outputs": [
    {
     "name": "stdout",
     "output_type": "stream",
     "text": [
      "45 45 45\n"
     ]
    }
   ],
   "source": [
    "print(a,b,c)"
   ]
  },
  {
   "cell_type": "markdown",
   "id": "c44515a9",
   "metadata": {},
   "source": [
    "## Block Indentation\n"
   ]
  },
  {
   "cell_type": "code",
   "execution_count": 26,
   "id": "82407bc4",
   "metadata": {},
   "outputs": [
    {
     "name": "stdout",
     "output_type": "stream",
     "text": [
      "Goodbye\n"
     ]
    }
   ],
   "source": [
    "a = 10 \n",
    "b = 20\n",
    "if a > b :\n",
    "    print(\"HEllo\")\n",
    "else:\n",
    "    print(\"Goodbye\")"
   ]
  },
  {
   "cell_type": "markdown",
   "id": "5211bc4e",
   "metadata": {},
   "source": [
    "## Datatypes"
   ]
  },
  {
   "cell_type": "code",
   "execution_count": null,
   "id": "90c006f3",
   "metadata": {},
   "outputs": [],
   "source": []
  }
 ],
 "metadata": {
  "kernelspec": {
   "display_name": "Python 3 (ipykernel)",
   "language": "python",
   "name": "python3"
  },
  "language_info": {
   "codemirror_mode": {
    "name": "ipython",
    "version": 3
   },
   "file_extension": ".py",
   "mimetype": "text/x-python",
   "name": "python",
   "nbconvert_exporter": "python",
   "pygments_lexer": "ipython3",
   "version": "3.9.7"
  }
 },
 "nbformat": 4,
 "nbformat_minor": 5
}
