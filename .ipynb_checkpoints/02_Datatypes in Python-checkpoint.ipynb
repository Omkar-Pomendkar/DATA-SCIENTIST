{
 "cells": [
  {
   "cell_type": "markdown",
   "id": "cee04d62",
   "metadata": {},
   "source": [
    "## Strings\n",
    " Shift+Tab  : Details\n",
    " Dot + Tab  : Shows Function used in the Datattypes"
   ]
  },
  {
   "cell_type": "code",
   "execution_count": 1,
   "id": "998b17bf",
   "metadata": {},
   "outputs": [],
   "source": [
    "a = \"Omkar Pomendkar\""
   ]
  },
  {
   "cell_type": "code",
   "execution_count": 2,
   "id": "a95962b8",
   "metadata": {},
   "outputs": [
    {
     "data": {
      "text/plain": [
       "str"
      ]
     },
     "execution_count": 2,
     "metadata": {},
     "output_type": "execute_result"
    }
   ],
   "source": [
    "type(a)"
   ]
  },
  {
   "cell_type": "markdown",
   "id": "eb76ced1",
   "metadata": {},
   "source": [
    "## Set Datatypes\n",
    "Sets are unordered collections of unique objects, there are two types of set:\n",
    "1. Sets - They are mutable and new elements can be added once sets are defined\n",
    "2. Frozen Sets - They are immutable and new elements cannot added after its defined."
   ]
  },
  {
   "cell_type": "markdown",
   "id": "678f0e35",
   "metadata": {},
   "source": [
    "## Set"
   ]
  },
  {
   "cell_type": "code",
   "execution_count": 3,
   "id": "0b4754d8",
   "metadata": {},
   "outputs": [],
   "source": [
    "basket = { \"mango\",\"mango\",\"banana\",\"apple\",\"peear\"}"
   ]
  },
  {
   "cell_type": "code",
   "execution_count": null,
   "id": "e55accbe",
   "metadata": {},
   "outputs": [],
   "source": []
  },
  {
   "cell_type": "code",
   "execution_count": 4,
   "id": "faec470c",
   "metadata": {},
   "outputs": [
    {
     "data": {
      "text/plain": [
       "set"
      ]
     },
     "execution_count": 4,
     "metadata": {},
     "output_type": "execute_result"
    }
   ],
   "source": [
    "type(basket)"
   ]
  },
  {
   "cell_type": "code",
   "execution_count": 5,
   "id": "09303294",
   "metadata": {},
   "outputs": [
    {
     "name": "stdout",
     "output_type": "stream",
     "text": [
      "{'banana', 'mango', 'peear', 'apple'}\n"
     ]
    }
   ],
   "source": [
    "print(basket)"
   ]
  },
  {
   "cell_type": "code",
   "execution_count": 6,
   "id": "f2d0796e",
   "metadata": {},
   "outputs": [],
   "source": [
    "basket.add(\"Orange\")"
   ]
  },
  {
   "cell_type": "code",
   "execution_count": 7,
   "id": "97effdc3",
   "metadata": {},
   "outputs": [
    {
     "name": "stdout",
     "output_type": "stream",
     "text": [
      "{'mango', 'apple', 'Orange', 'peear', 'banana'}\n"
     ]
    }
   ],
   "source": [
    "print(basket)"
   ]
  },
  {
   "cell_type": "code",
   "execution_count": null,
   "id": "0a1f4b64",
   "metadata": {},
   "outputs": [],
   "source": []
  },
  {
   "cell_type": "code",
   "execution_count": 8,
   "id": "94db78f5",
   "metadata": {},
   "outputs": [
    {
     "name": "stdout",
     "output_type": "stream",
     "text": [
      "{'mango', 'apple', 'Orange', 'peear', 'banana'}\n"
     ]
    }
   ],
   "source": [
    "print(basket\n",
    "     )"
   ]
  },
  {
   "cell_type": "markdown",
   "id": "c6569c88",
   "metadata": {},
   "source": [
    "## Frozen Set"
   ]
  },
  {
   "cell_type": "code",
   "execution_count": 9,
   "id": "6bab8b2e",
   "metadata": {},
   "outputs": [],
   "source": [
    "b = frozenset(\"omkar\")"
   ]
  },
  {
   "cell_type": "code",
   "execution_count": 10,
   "id": "58975dd4",
   "metadata": {},
   "outputs": [
    {
     "name": "stdout",
     "output_type": "stream",
     "text": [
      "frozenset({'m', 'r', 'a', 'o', 'k'})\n"
     ]
    }
   ],
   "source": [
    "print(b)"
   ]
  },
  {
   "cell_type": "markdown",
   "id": "7adbc1a1",
   "metadata": {},
   "source": [
    "## Number Datatypes\n"
   ]
  },
  {
   "cell_type": "code",
   "execution_count": 11,
   "id": "1ca63982",
   "metadata": {},
   "outputs": [],
   "source": [
    "a = 10\n",
    "b = 45.5\n",
    "c = 34.7j\n",
    "#d = 1234567L"
   ]
  },
  {
   "cell_type": "code",
   "execution_count": 12,
   "id": "f633c5b6",
   "metadata": {},
   "outputs": [
    {
     "data": {
      "text/plain": [
       "int"
      ]
     },
     "execution_count": 12,
     "metadata": {},
     "output_type": "execute_result"
    }
   ],
   "source": [
    "type(a)"
   ]
  },
  {
   "cell_type": "code",
   "execution_count": 13,
   "id": "cd0562a4",
   "metadata": {},
   "outputs": [
    {
     "data": {
      "text/plain": [
       "float"
      ]
     },
     "execution_count": 13,
     "metadata": {},
     "output_type": "execute_result"
    }
   ],
   "source": [
    "type(b)"
   ]
  },
  {
   "cell_type": "code",
   "execution_count": 14,
   "id": "103698fd",
   "metadata": {},
   "outputs": [
    {
     "data": {
      "text/plain": [
       "complex"
      ]
     },
     "execution_count": 14,
     "metadata": {},
     "output_type": "execute_result"
    }
   ],
   "source": [
    "type(c)"
   ]
  },
  {
   "cell_type": "markdown",
   "id": "afdd8d36",
   "metadata": {},
   "source": [
    "## List Datatype"
   ]
  },
  {
   "cell_type": "raw",
   "id": "84bc8a33",
   "metadata": {},
   "source": [
    "A list contains items separated by commas and enclosed within square brackets [].lists are almost similar to arrays\n",
    "in C. One difference is that all the items belonging to a list can be of different data type\n"
   ]
  },
  {
   "cell_type": "code",
   "execution_count": 15,
   "id": "967dcd23",
   "metadata": {},
   "outputs": [],
   "source": [
    "l1= [1,2,3,4,5,6,[\"Omkar\",\"Pomendkar\"],90.5,'A']"
   ]
  },
  {
   "cell_type": "code",
   "execution_count": 16,
   "id": "4a1a62e2",
   "metadata": {},
   "outputs": [
    {
     "name": "stdout",
     "output_type": "stream",
     "text": [
      "[1, 2, 3, 4, 5, 6, ['Omkar', 'Pomendkar'], 90.5, 'A']\n"
     ]
    }
   ],
   "source": [
    "print(l1)"
   ]
  },
  {
   "cell_type": "code",
   "execution_count": 17,
   "id": "42ea2179",
   "metadata": {},
   "outputs": [
    {
     "data": {
      "text/plain": [
       "list"
      ]
     },
     "execution_count": 17,
     "metadata": {},
     "output_type": "execute_result"
    }
   ],
   "source": [
    "type(l1)"
   ]
  },
  {
   "cell_type": "code",
   "execution_count": 18,
   "id": "8869ff09",
   "metadata": {},
   "outputs": [
    {
     "data": {
      "text/plain": [
       "1"
      ]
     },
     "execution_count": 18,
     "metadata": {},
     "output_type": "execute_result"
    }
   ],
   "source": [
    "l1[0]"
   ]
  },
  {
   "cell_type": "code",
   "execution_count": 19,
   "id": "82e9452a",
   "metadata": {},
   "outputs": [
    {
     "data": {
      "text/plain": [
       "'A'"
      ]
     },
     "execution_count": 19,
     "metadata": {},
     "output_type": "execute_result"
    }
   ],
   "source": [
    "l1[-1]"
   ]
  },
  {
   "cell_type": "code",
   "execution_count": 20,
   "id": "86e758ce",
   "metadata": {},
   "outputs": [
    {
     "data": {
      "text/plain": [
       "9"
      ]
     },
     "execution_count": 20,
     "metadata": {},
     "output_type": "execute_result"
    }
   ],
   "source": [
    "len(l1)"
   ]
  },
  {
   "cell_type": "code",
   "execution_count": 21,
   "id": "7f9c25ac",
   "metadata": {},
   "outputs": [
    {
     "data": {
      "text/plain": [
       "[3, 4, 5, 6, ['Omkar', 'Pomendkar'], 90.5]"
      ]
     },
     "execution_count": 21,
     "metadata": {},
     "output_type": "execute_result"
    }
   ],
   "source": [
    "l1[2:8]"
   ]
  },
  {
   "cell_type": "code",
   "execution_count": 22,
   "id": "6ab48320",
   "metadata": {},
   "outputs": [
    {
     "data": {
      "text/plain": [
       "['A', 90.5, ['Omkar', 'Pomendkar'], 6, 5, 4, 3, 2, 1]"
      ]
     },
     "execution_count": 22,
     "metadata": {},
     "output_type": "execute_result"
    }
   ],
   "source": [
    "# Reversing a List\n",
    "l1[::-1]"
   ]
  },
  {
   "cell_type": "code",
   "execution_count": 23,
   "id": "918d0b4e",
   "metadata": {},
   "outputs": [
    {
     "data": {
      "text/plain": [
       "[1, 3, 5, ['Omkar', 'Pomendkar'], 'A']"
      ]
     },
     "execution_count": 23,
     "metadata": {},
     "output_type": "execute_result"
    }
   ],
   "source": [
    "l1[0:100:2]\n"
   ]
  },
  {
   "cell_type": "code",
   "execution_count": 24,
   "id": "3bcddd47",
   "metadata": {},
   "outputs": [
    {
     "data": {
      "text/plain": [
       "[1, 2, 3]"
      ]
     },
     "execution_count": 24,
     "metadata": {},
     "output_type": "execute_result"
    }
   ],
   "source": [
    "l1[:3]"
   ]
  },
  {
   "cell_type": "code",
   "execution_count": 25,
   "id": "70f5ff3b",
   "metadata": {},
   "outputs": [
    {
     "data": {
      "text/plain": [
       "[1, 2, 3, 4, 5, 6, ['Omkar', 'Pomendkar'], 90.5, 'A', 'omkar']"
      ]
     },
     "execution_count": 25,
     "metadata": {},
     "output_type": "execute_result"
    }
   ],
   "source": [
    "# At the end it enters\n",
    "l1+[\"omkar\"]"
   ]
  },
  {
   "cell_type": "code",
   "execution_count": 26,
   "id": "c8c8ad90",
   "metadata": {},
   "outputs": [
    {
     "data": {
      "text/plain": [
       "[1,\n",
       " 2,\n",
       " 3,\n",
       " 4,\n",
       " 5,\n",
       " 6,\n",
       " ['Omkar', 'Pomendkar'],\n",
       " 90.5,\n",
       " 'A',\n",
       " 1,\n",
       " 2,\n",
       " 3,\n",
       " 4,\n",
       " 5,\n",
       " 6,\n",
       " ['Omkar', 'Pomendkar'],\n",
       " 90.5,\n",
       " 'A']"
      ]
     },
     "execution_count": 26,
     "metadata": {},
     "output_type": "execute_result"
    }
   ],
   "source": [
    "# The List Multiply 2\n",
    "l1 * 2"
   ]
  },
  {
   "cell_type": "code",
   "execution_count": 27,
   "id": "0aec4e13",
   "metadata": {},
   "outputs": [
    {
     "data": {
      "text/plain": [
       "[1, 2, 3, 4, 5, 6, ['Omkar', 'Pomendkar'], 90.5, 'A']"
      ]
     },
     "execution_count": 27,
     "metadata": {},
     "output_type": "execute_result"
    }
   ],
   "source": [
    "l1"
   ]
  },
  {
   "cell_type": "code",
   "execution_count": 28,
   "id": "29a03cb2",
   "metadata": {},
   "outputs": [
    {
     "data": {
      "text/plain": [
       "True"
      ]
     },
     "execution_count": 28,
     "metadata": {},
     "output_type": "execute_result"
    }
   ],
   "source": [
    "6 in l1"
   ]
  },
  {
   "cell_type": "code",
   "execution_count": 29,
   "id": "5379d20a",
   "metadata": {},
   "outputs": [
    {
     "data": {
      "text/plain": [
       "True"
      ]
     },
     "execution_count": 29,
     "metadata": {},
     "output_type": "execute_result"
    }
   ],
   "source": [
    "\"Omkar\" in l1[6]"
   ]
  },
  {
   "cell_type": "code",
   "execution_count": 30,
   "id": "55761c27",
   "metadata": {},
   "outputs": [],
   "source": [
    "m = [1,2,3,4,5,6,7,8,9]"
   ]
  },
  {
   "cell_type": "code",
   "execution_count": 31,
   "id": "998399cd",
   "metadata": {},
   "outputs": [
    {
     "data": {
      "text/plain": [
       "9"
      ]
     },
     "execution_count": 31,
     "metadata": {},
     "output_type": "execute_result"
    }
   ],
   "source": [
    "max(m)"
   ]
  },
  {
   "cell_type": "code",
   "execution_count": 32,
   "id": "484e76ef",
   "metadata": {},
   "outputs": [
    {
     "data": {
      "text/plain": [
       "1"
      ]
     },
     "execution_count": 32,
     "metadata": {},
     "output_type": "execute_result"
    }
   ],
   "source": [
    "min(m)"
   ]
  },
  {
   "cell_type": "code",
   "execution_count": 35,
   "id": "dc57738a",
   "metadata": {},
   "outputs": [],
   "source": [
    "l2 =  [\"omkar\",\"sanjay\",\"Pomendkar\"]\n",
    "# Based on Alphabatically Order"
   ]
  },
  {
   "cell_type": "code",
   "execution_count": 37,
   "id": "30a5ee01",
   "metadata": {},
   "outputs": [
    {
     "data": {
      "text/plain": [
       "'Pomendkar'"
      ]
     },
     "execution_count": 37,
     "metadata": {},
     "output_type": "execute_result"
    }
   ],
   "source": [
    "min(l2)"
   ]
  },
  {
   "cell_type": "code",
   "execution_count": null,
   "id": "e1a0fed6",
   "metadata": {},
   "outputs": [],
   "source": []
  }
 ],
 "metadata": {
  "kernelspec": {
   "display_name": "Python 3 (ipykernel)",
   "language": "python",
   "name": "python3"
  },
  "language_info": {
   "codemirror_mode": {
    "name": "ipython",
    "version": 3
   },
   "file_extension": ".py",
   "mimetype": "text/x-python",
   "name": "python",
   "nbconvert_exporter": "python",
   "pygments_lexer": "ipython3",
   "version": "3.9.7"
  }
 },
 "nbformat": 4,
 "nbformat_minor": 5
}
